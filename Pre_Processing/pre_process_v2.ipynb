{
 "cells": [
  {
   "cell_type": "code",
   "execution_count": 9,
   "metadata": {},
   "outputs": [],
   "source": [
    "import os\n",
    "import re\n",
    "import shutil\n",
    "from datetime import datetime, timedelta"
   ]
  },
  {
   "cell_type": "code",
   "execution_count": 5,
   "metadata": {},
   "outputs": [],
   "source": [
    "# To get to know the unique dates in the directory\n",
    "\n",
    "def extract_unique_dates(directory):\n",
    "    # Regular expression to match the date format in file names\n",
    "    date_pattern = re.compile(r\"\\d{4}-\\d{2}-\\d{2}\")\n",
    "\n",
    "    unique_dates = set()\n",
    "\n",
    "    # Iterate over the files in the given directory\n",
    "    for filename in os.listdir(directory):\n",
    "        # Find the date in the filename using the regular expression\n",
    "        match = date_pattern.search(filename)\n",
    "        if match:\n",
    "            date_str = match.group()\n",
    "            # Convert the date string to a datetime object to ensure valid dates\n",
    "            try:\n",
    "                date = datetime.strptime(date_str, \"%Y-%m-%d\")\n",
    "                unique_dates.add(date_str)\n",
    "            except ValueError:\n",
    "                # Skip invalid date formats\n",
    "                continue\n",
    "\n",
    "    return unique_dates\n",
    "\n",
    "\n"
   ]
  },
  {
   "cell_type": "code",
   "execution_count": 8,
   "metadata": {},
   "outputs": [
    {
     "name": "stdout",
     "output_type": "stream",
     "text": [
      "{'2023-10-09', '2023-10-11', '2023-10-12', '2023-10-10'}\n",
      "{'2023-10-12', '2023-10-20', '2023-10-24', '2023-10-31', '2023-11-02', '2023-10-15', '2023-10-16', '2023-10-21', '2023-10-25', '2023-10-29', '2023-10-27', '2023-10-09', '2023-10-18', '2023-10-11', '2023-11-03', '2023-10-13', '2023-11-04', '2023-10-10', '2023-10-17', '2023-10-22', '2023-11-01', '2023-10-19', '2023-10-26', '2023-10-30', '2023-10-28', '2023-10-23', '2023-10-08', '2023-10-14'}\n"
     ]
    }
   ],
   "source": [
    "directory = \"Pre_Processing/pairs_annotated_label_img_training_data\"\n",
    "print(extract_unique_dates(directory))\n",
    "\n",
    "directory = \"new_training_data/images\"\n",
    "print(extract_unique_dates(directory))\n"
   ]
  },
  {
   "cell_type": "code",
   "execution_count": 11,
   "metadata": {},
   "outputs": [],
   "source": [
    "import os\n",
    "import shutil\n",
    "from datetime import datetime, timedelta\n",
    "\n",
    "def create_weekly_directories_and_copy_files(src_directory, output_directory):\n",
    "    # Regular expression to match the date format in file names\n",
    "    date_pattern = re.compile(r\"\\d{4}-\\d{2}-\\d{2}\")\n",
    "\n",
    "    # Dictionary to hold the start date of each week and its associated files\n",
    "    weekly_files = {}\n",
    "\n",
    "    # Iterate over the files in the source directory\n",
    "    for filename in os.listdir(src_directory):\n",
    "        # Find the date in the filename using the regular expression\n",
    "        match = date_pattern.search(filename)\n",
    "        if match:\n",
    "            date_str = match.group()\n",
    "            # Convert the date string to a datetime object\n",
    "            try:\n",
    "                date = datetime.strptime(date_str, \"%Y-%m-%d\")\n",
    "            except ValueError:\n",
    "                # Skip invalid date formats\n",
    "                continue\n",
    "\n",
    "            # Determine the start of the week for this date\n",
    "            start_of_week = date - timedelta(days=date.weekday())\n",
    "            start_of_week_str = start_of_week.strftime(\"%Y-%m-%d\")\n",
    "\n",
    "            # Add the file to the correct week\n",
    "            if start_of_week_str not in weekly_files:\n",
    "                weekly_files[start_of_week_str] = []\n",
    "            weekly_files[start_of_week_str].append(filename)\n",
    "\n",
    "    # Create directories for each week in the output directory and copy files\n",
    "    for week_start, files in weekly_files.items():\n",
    "        week_dir = os.path.join(output_directory, week_start)\n",
    "        os.makedirs(week_dir, exist_ok=True)\n",
    "\n",
    "        for file in files:\n",
    "            src_file_path = os.path.join(src_directory, file)\n",
    "            dest_file_path = os.path.join(week_dir, file)\n",
    "            shutil.copy2(src_file_path, dest_file_path)\n",
    "\n",
    "    return weekly_files\n"
   ]
  },
  {
   "cell_type": "code",
   "execution_count": 12,
   "metadata": {},
   "outputs": [],
   "source": [
    "src_directory = \"new_training_data/images\"\n",
    "output_directory = \"Pre_Processing/weekly_data_spllit\"\n",
    "create_weekly_directories_and_copy_files(src_directory, output_directory)"
   ]
  },
  {
   "cell_type": "code",
   "execution_count": 1,
   "metadata": {},
   "outputs": [],
   "source": [
    "import os\n",
    "import shutil\n",
    "\n",
    "# Move images without corresponding XML files to a new directory\n",
    "\n",
    "def move_jpegs_without_xml(source_directory, destination_directory):\n",
    "    # Ensure the source directory exists\n",
    "    if not os.path.isdir(source_directory):\n",
    "        print(f\"The source directory {source_directory} does not exist.\")\n",
    "        return\n",
    "\n",
    "    # Ensure the destination directory exists, create if not\n",
    "    if not os.path.isdir(destination_directory):\n",
    "        os.makedirs(destination_directory)\n",
    "        print(f\"Created destination directory: {destination_directory}\")\n",
    "\n",
    "    # Iterate over files in the source directory\n",
    "    for filename in os.listdir(source_directory):\n",
    "        if filename.lower().endswith((\".jpeg\", \".jpg\")):\n",
    "            # Check if the corresponding XML file exists\n",
    "            xml_filename = os.path.splitext(filename)[0] + \".xml\"\n",
    "            if not os.path.isfile(os.path.join(source_directory, xml_filename)):\n",
    "                # Move the JPEG file to the destination directory\n",
    "                shutil.move(os.path.join(source_directory, filename), destination_directory)\n",
    "                print(f\"Moved: {filename}\")\n",
    "\n",
    "    print(\"Operation completed.\")\n"
   ]
  },
  {
   "cell_type": "code",
   "execution_count": null,
   "metadata": {},
   "outputs": [],
   "source": [
    "move_jpegs_without_xml('Pre_Processing/weekly_data_spllit/2023-10-08', 'Pre_Processing/weekly_data_spllit_not_annotated')\n"
   ]
  }
 ],
 "metadata": {
  "kernelspec": {
   "display_name": "calf",
   "language": "python",
   "name": "python3"
  },
  "language_info": {
   "codemirror_mode": {
    "name": "ipython",
    "version": 3
   },
   "file_extension": ".py",
   "mimetype": "text/x-python",
   "name": "python",
   "nbconvert_exporter": "python",
   "pygments_lexer": "ipython3",
   "version": "3.12.0"
  }
 },
 "nbformat": 4,
 "nbformat_minor": 2
}
