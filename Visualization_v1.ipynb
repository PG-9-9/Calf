{
 "cells": [
  {
   "cell_type": "code",
   "execution_count": 1,
   "metadata": {},
   "outputs": [
    {
     "name": "stderr",
     "output_type": "stream",
     "text": [
      "2023-08-18 15:08:04.844699: I tensorflow/core/util/port.cc:110] oneDNN custom operations are on. You may see slightly different numerical results due to floating-point round-off errors from different computation orders. To turn them off, set the environment variable `TF_ENABLE_ONEDNN_OPTS=0`.\n",
      "2023-08-18 15:08:04.875774: I tensorflow/core/platform/cpu_feature_guard.cc:182] This TensorFlow binary is optimized to use available CPU instructions in performance-critical operations.\n",
      "To enable the following instructions: AVX2 AVX_VNNI FMA, in other operations, rebuild TensorFlow with the appropriate compiler flags.\n",
      "2023-08-18 15:08:05.441430: W tensorflow/compiler/tf2tensorrt/utils/py_utils.cc:38] TF-TRT Warning: Could not find TensorRT\n",
      "2023-08-18 15:08:06.449099: I tensorflow/compiler/xla/stream_executor/cuda/cuda_gpu_executor.cc:995] successful NUMA node read from SysFS had negative value (-1), but there must be at least one NUMA node, so returning NUMA node zero. See more at https://github.com/torvalds/linux/blob/v6.0/Documentation/ABI/testing/sysfs-bus-pci#L344-L355\n",
      "2023-08-18 15:08:06.467870: I tensorflow/compiler/xla/stream_executor/cuda/cuda_gpu_executor.cc:995] successful NUMA node read from SysFS had negative value (-1), but there must be at least one NUMA node, so returning NUMA node zero. See more at https://github.com/torvalds/linux/blob/v6.0/Documentation/ABI/testing/sysfs-bus-pci#L344-L355\n",
      "2023-08-18 15:08:06.468010: I tensorflow/compiler/xla/stream_executor/cuda/cuda_gpu_executor.cc:995] successful NUMA node read from SysFS had negative value (-1), but there must be at least one NUMA node, so returning NUMA node zero. See more at https://github.com/torvalds/linux/blob/v6.0/Documentation/ABI/testing/sysfs-bus-pci#L344-L355\n",
      "2023-08-18 15:08:06.469112: I tensorflow/compiler/xla/stream_executor/cuda/cuda_gpu_executor.cc:995] successful NUMA node read from SysFS had negative value (-1), but there must be at least one NUMA node, so returning NUMA node zero. See more at https://github.com/torvalds/linux/blob/v6.0/Documentation/ABI/testing/sysfs-bus-pci#L344-L355\n",
      "2023-08-18 15:08:06.469205: I tensorflow/compiler/xla/stream_executor/cuda/cuda_gpu_executor.cc:995] successful NUMA node read from SysFS had negative value (-1), but there must be at least one NUMA node, so returning NUMA node zero. See more at https://github.com/torvalds/linux/blob/v6.0/Documentation/ABI/testing/sysfs-bus-pci#L344-L355\n",
      "2023-08-18 15:08:06.469334: I tensorflow/compiler/xla/stream_executor/cuda/cuda_gpu_executor.cc:995] successful NUMA node read from SysFS had negative value (-1), but there must be at least one NUMA node, so returning NUMA node zero. See more at https://github.com/torvalds/linux/blob/v6.0/Documentation/ABI/testing/sysfs-bus-pci#L344-L355\n",
      "2023-08-18 15:08:06.575532: I tensorflow/compiler/xla/stream_executor/cuda/cuda_gpu_executor.cc:995] successful NUMA node read from SysFS had negative value (-1), but there must be at least one NUMA node, so returning NUMA node zero. See more at https://github.com/torvalds/linux/blob/v6.0/Documentation/ABI/testing/sysfs-bus-pci#L344-L355\n",
      "2023-08-18 15:08:06.575672: I tensorflow/compiler/xla/stream_executor/cuda/cuda_gpu_executor.cc:995] successful NUMA node read from SysFS had negative value (-1), but there must be at least one NUMA node, so returning NUMA node zero. See more at https://github.com/torvalds/linux/blob/v6.0/Documentation/ABI/testing/sysfs-bus-pci#L344-L355\n",
      "2023-08-18 15:08:06.575742: I tensorflow/compiler/xla/stream_executor/cuda/cuda_gpu_executor.cc:995] successful NUMA node read from SysFS had negative value (-1), but there must be at least one NUMA node, so returning NUMA node zero. See more at https://github.com/torvalds/linux/blob/v6.0/Documentation/ABI/testing/sysfs-bus-pci#L344-L355\n",
      "2023-08-18 15:08:06.575810: I tensorflow/core/common_runtime/gpu/gpu_device.cc:1639] Created device /job:localhost/replica:0/task:0/device:GPU:0 with 1192 MB memory:  -> device: 0, name: NVIDIA GeForce RTX 4060 Laptop GPU, pci bus id: 0000:01:00.0, compute capability: 8.9\n"
     ]
    }
   ],
   "source": [
    "import tensorflow as tf\n",
    "\n",
    "model_dir = 'new_app/finetuned_ed0/saved_model/'  # Ensure to end with '/'\n",
    "loaded_model = tf.saved_model.load(model_dir)"
   ]
  },
  {
   "cell_type": "code",
   "execution_count": 3,
   "metadata": {},
   "outputs": [
    {
     "name": "stdout",
     "output_type": "stream",
     "text": [
      "{1: {'id': 1, 'name': 'kalb'}, 2: {'id': 2, 'name': 'person'}}\n"
     ]
    }
   ],
   "source": [
    "def load_labelmap(labelmap_path):\n",
    "    category_map = {}\n",
    "    with open(labelmap_path, 'r') as file:\n",
    "        lines = file.readlines()\n",
    "        current_id = None\n",
    "        current_name = None\n",
    "        for line in lines:\n",
    "            line = line.strip()\n",
    "            if \"id:\" in line:\n",
    "                current_id = int(line.split(\":\")[1].strip())\n",
    "            if \"name:\" in line:\n",
    "                current_name = line.split(\":\")[1].strip().replace(\"'\", \"\")\n",
    "                category_map[current_id] = {'id': current_id, 'name': current_name}\n",
    "    return category_map\n",
    "\n",
    "category_map = load_labelmap(\"new_app/train/labelmap.txt\")\n",
    "print(category_map)"
   ]
  },
  {
   "cell_type": "code",
   "execution_count": 4,
   "metadata": {},
   "outputs": [],
   "source": [
    "def run_inference_for_single_image(model, image):\n",
    "    image = np.asarray(image)\n",
    "    # Convert the image to a tensor.\n",
    "    input_tensor = tf.convert_to_tensor(image)\n",
    "    # The model expects a batch of images, so add an axis with `tf.newaxis`.\n",
    "    input_tensor = input_tensor[tf.newaxis,...]\n",
    "\n",
    "    # Run inference\n",
    "    detections = model(input_tensor)\n",
    "\n",
    "    return detections\n"
   ]
  },
  {
   "cell_type": "code",
   "execution_count": 5,
   "metadata": {},
   "outputs": [
    {
     "name": "stderr",
     "output_type": "stream",
     "text": [
      "2023-08-18 15:08:36.809016: I tensorflow/compiler/xla/stream_executor/cuda/cuda_dnn.cc:432] Loaded cuDNN version 8600\n",
      "2023-08-18 15:08:36.862645: I tensorflow/tsl/platform/default/subprocess.cc:304] Start cannot spawn child process: No such file or directory\n",
      "2023-08-18 15:08:36.863395: I tensorflow/tsl/platform/default/subprocess.cc:304] Start cannot spawn child process: No such file or directory\n",
      "2023-08-18 15:08:36.863416: W tensorflow/compiler/xla/stream_executor/gpu/asm_compiler.cc:109] Couldn't get ptxas version : FAILED_PRECONDITION: Couldn't get ptxas/nvlink version string: INTERNAL: Couldn't invoke ptxas --version\n",
      "2023-08-18 15:08:36.864168: I tensorflow/tsl/platform/default/subprocess.cc:304] Start cannot spawn child process: No such file or directory\n",
      "2023-08-18 15:08:36.864198: W tensorflow/compiler/xla/stream_executor/gpu/redzone_allocator.cc:318] INTERNAL: Failed to launch ptxas\n",
      "Relying on driver to perform ptx compilation. \n",
      "Modify $PATH to customize ptxas location.\n",
      "This message will be only logged once.\n",
      "2023-08-18 15:08:36.932223: I tensorflow/compiler/xla/stream_executor/cuda/cuda_blas.cc:606] TensorFloat-32 will be used for the matrix multiplication. This will only be logged once.\n"
     ]
    },
    {
     "name": "stdout",
     "output_type": "stream",
     "text": [
      "[0.25675145 0.25008643 0.17582943 0.15982264 0.12070093 0.12034408\n",
      " 0.10581971 0.09777072 0.09723876 0.09175884 0.09089711 0.08759634\n",
      " 0.08483321 0.08388683 0.08369277 0.08261616 0.08204383 0.08051664\n",
      " 0.07735747 0.06836545 0.06721197 0.06402599 0.06395116 0.06329389\n",
      " 0.06183547 0.05948424 0.05555177 0.05512119 0.05488646 0.05230032\n",
      " 0.05223281 0.05203326 0.05163156 0.0510985  0.05040763 0.05007048\n",
      " 0.04910192 0.04852357 0.04833131 0.0482905  0.04646717 0.04612269\n",
      " 0.04493431 0.04437536 0.04432748 0.04418956 0.04401806 0.04400184\n",
      " 0.04397394 0.04383481 0.04371039 0.04354383 0.04271274 0.0425141\n",
      " 0.0420298  0.04194007 0.04120698 0.04105372 0.04012007 0.04003285\n",
      " 0.03992224 0.03949263 0.03934186 0.03923856 0.03903082 0.03894954\n",
      " 0.0381141  0.03807874 0.03795916 0.03733015 0.03679034 0.03654511\n",
      " 0.03647829 0.03570371 0.03544566 0.03537332 0.03530805 0.0352655\n",
      " 0.03521949 0.03500531 0.03492214 0.03465002 0.03421936 0.03418078\n",
      " 0.03417576 0.03406192 0.03402057 0.03342976 0.03329136 0.03327427\n",
      " 0.03300092 0.03287491 0.03285397 0.03281767 0.03250011 0.03245365\n",
      " 0.03238077 0.03236071 0.03228766 0.03181755]\n"
     ]
    }
   ],
   "source": [
    "import numpy as np\n",
    "from PIL import Image\n",
    "from object_detection.utils import visualization_utils as viz_utils\n",
    "\n",
    "image_path = \"new_app/train/2019-08-03_090001.jpg\"\n",
    "image_np = np.array(Image.open(image_path))\n",
    "\n",
    "# Actual detection.\n",
    "output_dict = run_inference_for_single_image(loaded_model, image_np)\n",
    "print(output_dict['detection_scores'][0].numpy())\n",
    "\n",
    "# Visualization of the results of a detection.\n",
    "viz_utils.visualize_boxes_and_labels_on_image_array(\n",
    "    image_np,\n",
    "    output_dict['detection_boxes'][0].numpy(),\n",
    "    output_dict['detection_classes'][0].numpy().astype(np.int32),\n",
    "    output_dict['detection_scores'][0].numpy(),\n",
    "    category_map,\n",
    "    use_normalized_coordinates=True,\n",
    "    line_thickness=8,\n",
    "    min_score_thresh=0.045 )\n",
    "\n",
    "# # Display\n",
    "Image.fromarray(image_np).show()\n"
   ]
  }
 ],
 "metadata": {
  "kernelspec": {
   "display_name": "tf_od",
   "language": "python",
   "name": "python3"
  },
  "language_info": {
   "codemirror_mode": {
    "name": "ipython",
    "version": 3
   },
   "file_extension": ".py",
   "mimetype": "text/x-python",
   "name": "python",
   "nbconvert_exporter": "python",
   "pygments_lexer": "ipython3",
   "version": "3.9.17"
  },
  "orig_nbformat": 4
 },
 "nbformat": 4,
 "nbformat_minor": 2
}
