{
 "cells": [
  {
   "cell_type": "code",
   "execution_count": 1,
   "metadata": {},
   "outputs": [
    {
     "name": "stderr",
     "output_type": "stream",
     "text": [
      "/tmp/ipykernel_1159326/60352575.py:3: DeprecationWarning: \n",
      "Pyarrow will become a required dependency of pandas in the next major release of pandas (pandas 3.0),\n",
      "(to allow more performant data types, such as the Arrow string type, and better interoperability with other libraries)\n",
      "but was not found to be installed on your system.\n",
      "If this would cause problems for you,\n",
      "please provide us feedback at https://github.com/pandas-dev/pandas/issues/54466\n",
      "        \n",
      "  import pandas as pd\n",
      "2024-03-24 09:57:37.518371: I external/local_tsl/tsl/cuda/cudart_stub.cc:31] Could not find cuda drivers on your machine, GPU will not be used.\n",
      "2024-03-24 09:57:39.059238: E external/local_xla/xla/stream_executor/cuda/cuda_dnn.cc:9261] Unable to register cuDNN factory: Attempting to register factory for plugin cuDNN when one has already been registered\n",
      "2024-03-24 09:57:39.059350: E external/local_xla/xla/stream_executor/cuda/cuda_fft.cc:607] Unable to register cuFFT factory: Attempting to register factory for plugin cuFFT when one has already been registered\n",
      "2024-03-24 09:57:39.294174: E external/local_xla/xla/stream_executor/cuda/cuda_blas.cc:1515] Unable to register cuBLAS factory: Attempting to register factory for plugin cuBLAS when one has already been registered\n",
      "2024-03-24 09:57:39.742953: I external/local_tsl/tsl/cuda/cudart_stub.cc:31] Could not find cuda drivers on your machine, GPU will not be used.\n",
      "2024-03-24 09:57:54.732208: W tensorflow/compiler/tf2tensorrt/utils/py_utils.cc:38] TF-TRT Warning: Could not find TensorRT\n"
     ]
    }
   ],
   "source": [
    "import datetime\n",
    "import numpy as np\n",
    "import pandas as pd\n",
    "import matplotlib.pyplot as plt\n",
    "import seaborn as sns\n",
    "from scipy.stats import ttest_ind\n",
    "import tensorflow as tf\n",
    "import librosa\n",
    "import os\n",
    "\n",
    "from sklearn.model_selection import train_test_split, StratifiedKFold\n",
    "from sklearn.preprocessing import StandardScaler\n",
    "from sklearn.metrics import (\n",
    "    accuracy_score, precision_score, recall_score, f1_score,\n",
    "    roc_auc_score, confusion_matrix, precision_recall_curve\n",
    ")\n",
    "\n",
    "from tensorflow.keras import layers, models, Model, Sequential\n",
    "from tensorflow.keras.layers import (\n",
    "    Dense, Dropout, Input, BatchNormalization, LSTM, RepeatVector,\n",
    "    TimeDistributed\n",
    ")\n",
    "from tensorflow.keras.callbacks import EarlyStopping"
   ]
  },
  {
   "cell_type": "code",
   "execution_count": 2,
   "metadata": {},
   "outputs": [
    {
     "name": "stdout",
     "output_type": "stream",
     "text": [
      "AutoEncoder last ran on: 2024-03-24 09:58:27\n"
     ]
    }
   ],
   "source": [
    "current_datetime=datetime.datetime.now()\n",
    "print(f\"AutoEncoder last ran on: {current_datetime.strftime('%Y-%m-%d %H:%M:%S')}\")"
   ]
  },
  {
   "cell_type": "code",
   "execution_count": 3,
   "metadata": {},
   "outputs": [],
   "source": [
    "# Loading the audio files\n",
    "\n",
    "def load_audio_files(path, label):\n",
    "    audio_files = []\n",
    "    labels = []\n",
    "    for filename in os.listdir(path):\n",
    "        if filename.endswith('.wav'):\n",
    "            file_path = os.path.join(path, filename)\n",
    "            audio, sample_rate = librosa.load(file_path, sr=None)\n",
    "            audio_files.append(audio)\n",
    "            labels.append(label)\n",
    "    return audio_files, labels, sample_rate\n",
    "\n",
    "normal_calf_path=\"Calf_Detection/Audio/Audio_Work_AE/normal_calf_subset\"\n",
    "abnormal_calf_path = \"Calf_Detection/Audio/Audio_Work_AE/abnormal_subset\"\n",
    "\n",
    "abnormal_audio, abnormal_labels, _ = load_audio_files(abnormal_calf_path, label=1)\n",
    "normal_audio, normal_labels, sample_rate = load_audio_files(normal_calf_path, label=0)"
   ]
  },
  {
   "cell_type": "code",
   "execution_count": 4,
   "metadata": {},
   "outputs": [],
   "source": [
    "# Feature Extraction:\n",
    "\n",
    "# MFCCs (Power Spectrum)\n",
    "def extract_mfccs(audio, sample_rate, n_mfcc=13):\n",
    "    mfccs = librosa.feature.mfcc(y=audio, sr=sample_rate, n_mfcc=n_mfcc)\n",
    "    mfccs_processed = np.mean(mfccs.T, axis=0)\n",
    "    return mfccs_processed\n",
    "\n",
    "# Spectral Features (spectral centroid, spectral roll-off, and spectral contrast):\n",
    "def extract_spectral_features(audio, sample_rate):\n",
    "    spectral_centroids = librosa.feature.spectral_centroid(y=audio, sr=sample_rate)[0]\n",
    "    spectral_rolloff = librosa.feature.spectral_rolloff(y=audio, sr=sample_rate)[0]\n",
    "    spectral_contrast = librosa.feature.spectral_contrast(y=audio, sr=sample_rate)[0]\n",
    "    return np.mean(spectral_centroids), np.mean(spectral_rolloff), np.mean(spectral_contrast)\n",
    "\n",
    "# Temporal Features ( zero-crossing rate and autocorrelation):\n",
    "def extract_temporal_features(audio):\n",
    "    zero_crossing_rate = librosa.feature.zero_crossing_rate(audio)[0]\n",
    "    autocorrelation = librosa.autocorrelate(audio)\n",
    "    return np.mean(zero_crossing_rate), np.mean(autocorrelation)\n"
   ]
  },
  {
   "cell_type": "code",
   "execution_count": 5,
   "metadata": {},
   "outputs": [],
   "source": [
    "# Data Augmentation:\n",
    "def augment_audio(audio, sample_rate, noise_factor=0.005, shift_max=0.2):\n",
    "    # Should experiment with Time Shifting, if needed\n",
    "    augmented_audio = audio\n",
    "\n",
    "    # Should experiment with different  noise levels\n",
    "    noise = np.random.randn(len(augmented_audio))\n",
    "    augmented_audio = augmented_audio + noise_factor * noise\n",
    "\n",
    "    return augmented_audio"
   ]
  },
  {
   "cell_type": "code",
   "execution_count": 6,
   "metadata": {},
   "outputs": [],
   "source": [
    "# Feature Extraction:\n",
    "\n",
    "def extract_features(audio_data, sample_rate):\n",
    "    features = []\n",
    "    for audio in audio_data:\n",
    "        mfccs = extract_mfccs(audio, sample_rate)\n",
    "        spectral_features = extract_spectral_features(audio, sample_rate)\n",
    "        temporal_features = extract_temporal_features(audio)\n",
    "        all_features = np.concatenate([mfccs, spectral_features, temporal_features])\n",
    "        features.append(all_features)\n",
    "    return np.array(features)\n",
    "\n",
    "# Extract features for both normal and abnormal data\n",
    "normal_features = extract_features(normal_audio, sample_rate)\n",
    "abnormal_features = extract_features(abnormal_audio, sample_rate)"
   ]
  },
  {
   "cell_type": "code",
   "execution_count": 8,
   "metadata": {},
   "outputs": [
    {
     "name": "stdout",
     "output_type": "stream",
     "text": [
      "Shape of X_train_scaled: (48, 18)\n",
      "Total number of elements: 864\n",
      "Suitable timesteps: 1\n",
      "WARNING:tensorflow:Layer lstm will not use cuDNN kernels since it doesn't meet the criteria. It will use a generic GPU kernel as fallback when running on GPU.\n"
     ]
    },
    {
     "name": "stderr",
     "output_type": "stream",
     "text": [
      "2024-01-02 13:26:54.482006: I tensorflow/core/common_runtime/gpu/gpu_device.cc:1639] Created device /job:localhost/replica:0/task:0/device:GPU:0 with 1071 MB memory:  -> device: 0, name: NVIDIA GeForce RTX 3080, pci bus id: 0000:b2:00.0, compute capability: 8.6\n"
     ]
    },
    {
     "name": "stdout",
     "output_type": "stream",
     "text": [
      "WARNING:tensorflow:Layer lstm_1 will not use cuDNN kernels since it doesn't meet the criteria. It will use a generic GPU kernel as fallback when running on GPU.\n",
      "WARNING:tensorflow:Layer lstm_2 will not use cuDNN kernels since it doesn't meet the criteria. It will use a generic GPU kernel as fallback when running on GPU.\n",
      "WARNING:tensorflow:Layer lstm_3 will not use cuDNN kernels since it doesn't meet the criteria. It will use a generic GPU kernel as fallback when running on GPU.\n"
     ]
    },
    {
     "name": "stderr",
     "output_type": "stream",
     "text": [
      "2024-01-02 13:26:58.927657: I tensorflow/compiler/xla/stream_executor/cuda/cuda_blas.cc:606] TensorFloat-32 will be used for the matrix multiplication. This will only be logged once.\n",
      "2024-01-02 13:26:59.027921: I tensorflow/compiler/xla/service/service.cc:168] XLA service 0x7f1aa0031740 initialized for platform CUDA (this does not guarantee that XLA will be used). Devices:\n",
      "2024-01-02 13:26:59.027969: I tensorflow/compiler/xla/service/service.cc:176]   StreamExecutor device (0): NVIDIA GeForce RTX 3080, Compute Capability 8.6\n",
      "2024-01-02 13:26:59.035538: I tensorflow/compiler/mlir/tensorflow/utils/dump_mlir_util.cc:255] disabling MLIR crash reproducer, set env var `MLIR_CRASH_REPRODUCER_DIRECTORY` to enable.\n",
      "2024-01-02 13:26:59.071836: I tensorflow/compiler/xla/stream_executor/cuda/cuda_dnn.cc:432] Loaded cuDNN version 8905\n",
      "2024-01-02 13:26:59.140604: I tensorflow/tsl/platform/default/subprocess.cc:304] Start cannot spawn child process: No such file or directory\n",
      "2024-01-02 13:26:59.218774: I ./tensorflow/compiler/jit/device_compiler.h:186] Compiled cluster using XLA!  This line is logged at most once for the lifetime of the process.\n"
     ]
    },
    {
     "data": {
      "text/plain": [
       "<keras.src.callbacks.History at 0x7f1c56ac4cd0>"
      ]
     },
     "execution_count": 8,
     "metadata": {},
     "output_type": "execute_result"
    }
   ],
   "source": [
    "def enhanced_autoencoder_with_lstm(input_dim, timesteps, n_features):\n",
    "    input_layer = Input(shape=(timesteps, n_features))\n",
    "\n",
    "    # Encoder with LSTM\n",
    "    encoder = LSTM(128, activation='relu', return_sequences=True)(input_layer)\n",
    "    encoder = LSTM(64, activation='relu', return_sequences=False)(encoder)\n",
    "    encoder = BatchNormalization()(encoder)\n",
    "    encoder = Dropout(0.1)(encoder)\n",
    "\n",
    "    # Repeat Vector\n",
    "    repeat_vector = RepeatVector(timesteps)(encoder)\n",
    "\n",
    "    # Decoder with LSTM\n",
    "    decoder = LSTM(64, activation='relu', return_sequences=True)(repeat_vector)\n",
    "    decoder = LSTM(128, activation='relu', return_sequences=True)(decoder)\n",
    "    decoder = BatchNormalization()(decoder)\n",
    "    decoder = Dropout(0.1)(decoder)\n",
    "    output_layer = TimeDistributed(Dense(n_features, activation='sigmoid'))(decoder)\n",
    "\n",
    "    autoencoder = Model(inputs=input_layer, outputs=output_layer)\n",
    "    autoencoder.compile(optimizer='adam', loss='mean_squared_error')\n",
    "    return autoencoder\n",
    "\n",
    "X_train, X_val = train_test_split(normal_features, test_size=0.2, random_state=42)\n",
    "scaler = StandardScaler()\n",
    "X_train_scaled = scaler.fit_transform(X_train)\n",
    "X_val_scaled = scaler.transform(X_val)\n",
    "\n",
    "# Print the shape of your data\n",
    "print(\"Shape of X_train_scaled:\", X_train_scaled.shape)\n",
    "\n",
    "# Calculate the total number of elements\n",
    "total_elements = np.prod(X_train_scaled.shape)\n",
    "print(\"Total number of elements:\", total_elements)\n",
    "\n",
    "n_samples, n_features = X_train_scaled.shape\n",
    "\n",
    "# Find suitable timesteps\n",
    "for timesteps in range(1, n_samples + 1):\n",
    "    if n_samples % timesteps == 0:\n",
    "        reshaped_samples = n_samples // timesteps\n",
    "        if reshaped_samples * timesteps * n_features == n_samples * n_features:\n",
    "            print(f\"Suitable timesteps: {timesteps}\")\n",
    "            break\n",
    "\n",
    "# Reshaping for LSTM Input\n",
    "timesteps = 1  # Should be adjusted as we scale.\n",
    "n_features = normal_features.shape[1]\n",
    "X_train_reshaped = X_train_scaled.reshape((-1, timesteps, n_features))\n",
    "X_val_reshaped = X_val_scaled.reshape((-1, timesteps, n_features))\n",
    "\n",
    "# Model Training\n",
    "early_stopping = EarlyStopping(monitor='val_loss', patience=5, restore_best_weights=True)\n",
    "autoencoder = enhanced_autoencoder_with_lstm(input_dim=n_features, timesteps=timesteps, n_features=n_features)\n",
    "autoencoder.fit(\n",
    "    X_train_reshaped, X_train_reshaped,\n",
    "    epochs=400,\n",
    "    batch_size=256,\n",
    "    shuffle=False,\n",
    "    validation_data=(X_val_reshaped, X_val_reshaped),\n",
    "    callbacks=[early_stopping],\n",
    "    verbose=0\n",
    ")"
   ]
  },
  {
   "cell_type": "code",
   "execution_count": 9,
   "metadata": {},
   "outputs": [],
   "source": [
    "# Combine normal and abnormal data for testing\n",
    "X_test = abnormal_features\n",
    "X_test_scaled = scaler.transform(X_test)\n",
    "\n",
    "# Reshaping for LSTM Input\n",
    "X_test_reshaped = X_test_scaled.reshape((-1, timesteps, n_features))\n",
    "X_combined_test = np.concatenate((X_val_reshaped, X_test_reshaped))\n",
    "\n",
    "# Prepare labels for combined test data\n",
    "y_combined_test = np.concatenate((np.zeros(len(X_val_reshaped)), np.ones(len(X_test_reshaped))))  # 0 for normal, 1 for abnormal\n",
    "\n",
    "def model_evaluation(autoencoder, X_test, y_test):\n",
    "    reconstructed_test = autoencoder.predict(X_test)\n",
    "\n",
    "    # Calculate MSE for each sample across all timesteps and features\n",
    "    mse_test = np.mean(np.power(X_test - reconstructed_test, 2), axis=(1, 2))\n",
    "\n",
    "    precisions, recalls, thresholds = precision_recall_curve(y_test, mse_test)\n",
    "    f1_scores = 2 * (precisions * recalls) / (precisions + recalls)\n",
    "    optimal_idx = np.argmax(f1_scores)\n",
    "    optimal_threshold = thresholds[optimal_idx]\n",
    "\n",
    "    optimal_predictions = (mse_test > optimal_threshold).astype(int)\n",
    "    optimal_accuracy = accuracy_score(y_test, optimal_predictions)\n",
    "    optimal_precision = precision_score(y_test, optimal_predictions)\n",
    "    optimal_recall = recall_score(y_test, optimal_predictions)\n",
    "    optimal_f1 = f1_score(y_test, optimal_predictions)\n",
    "\n",
    "    print(f\"Optimal Threshold: {optimal_threshold}\")\n",
    "    print(f\"Accuracy: {optimal_accuracy}\")\n",
    "    print(f\"Precision: {optimal_precision}\")\n",
    "    print(f\"Recall: {optimal_recall}\")\n",
    "    print(f\"F1 Score: {optimal_f1}\")\n",
    "\n",
    "    optimal_cm = confusion_matrix(y_test, optimal_predictions)\n",
    "    plt.figure(figsize=(8, 6))\n",
    "    sns.heatmap(optimal_cm, annot=True, fmt='d', cmap='Blues', xticklabels=['Normal', 'Abnormal'], yticklabels=['Normal', 'Abnormal'])\n",
    "    plt.ylabel('True label')\n",
    "    plt.xlabel('Predicted label')\n",
    "    plt.title('Optimal Confusion Matrix')\n",
    "    plt.show()\n"
   ]
  },
  {
   "cell_type": "code",
   "execution_count": 10,
   "metadata": {},
   "outputs": [
    {
     "name": "stdout",
     "output_type": "stream",
     "text": [
      "2/2 [==============================] - 0s 4ms/step\n",
      "Optimal Threshold: 1.8407930864778292\n",
      "Accuracy: 0.21739130434782608\n",
      "Precision: 0.0\n",
      "Recall: 0.0\n",
      "F1 Score: 0.0\n"
     ]
    },
    {
     "name": "stderr",
     "output_type": "stream",
     "text": [
      "/tmp/736186.tinygpu/ipykernel_113047/1681339387.py:19: RuntimeWarning: invalid value encountered in divide\n",
      "  f1_scores = 2 * (precisions * recalls) / (precisions + recalls)\n"
     ]
    },
    {
     "data": {
      "image/png": "[encoded data removed]",
      "text/plain": [
       "<Figure size 800x600 with 2 Axes>"
      ]
     },
     "metadata": {},
     "output_type": "display_data"
    }
   ],
   "source": [
    "# Evaluate the model\n",
    "model_evaluation(autoencoder, X_combined_test, y_combined_test)\n",
    "\n",
    "# Save the model\n",
    "autoencoder.save('Encoder_Model.keras')"
   ]
  },
  {
   "cell_type": "code",
   "execution_count": null,
   "metadata": {},
   "outputs": [],
   "source": []
  }
 ],
 "metadata": {
  "kernelspec": {
   "display_name": "audio_en",
   "language": "python",
   "name": "python3"
  },
  "language_info": {
   "codemirror_mode": {
    "name": "ipython",
    "version": 3
   },
   "file_extension": ".py",
   "mimetype": "text/x-python",
   "name": "python",
   "nbconvert_exporter": "python",
   "pygments_lexer": "ipython3",
   "version": "3.9.18"
  }
 },
 "nbformat": 4,
 "nbformat_minor": 2
}
