{
 "cells": [
  {
   "cell_type": "code",
   "execution_count": 1,
   "metadata": {},
   "outputs": [],
   "source": [
    "import os\n",
    "import shutil"
   ]
  },
  {
   "cell_type": "code",
   "execution_count": 3,
   "metadata": {},
   "outputs": [],
   "source": [
    "def move_sorted_files_to_directory(source_directory, destination_directory, num_files_to_move):\n",
    "    try:\n",
    "        # Get a list of all files in the source directory\n",
    "        files = [f for f in os.listdir(source_directory) if os.path.isfile(os.path.join(source_directory, f))]\n",
    "\n",
    "        # Sort the files based on their timestamps (assuming the format is 'output_YYYY-MM-DD_HH-MM-SS.wav')\n",
    "        files.sort(key=lambda x: x.split('_')[1])\n",
    "\n",
    "        # Ensure the destination directory exists; create it if not\n",
    "        if not os.path.exists(destination_directory):\n",
    "            os.makedirs(destination_directory)\n",
    "\n",
    "        # Iterate through the sorted files and move the specified number of files\n",
    "        for i in range(num_files_to_move):\n",
    "            if i < len(files):\n",
    "                file_to_move = files[i]\n",
    "                source_file_path = os.path.join(source_directory, file_to_move)\n",
    "                destination_file_path = os.path.join(destination_directory, file_to_move)\n",
    "                shutil.move(source_file_path, destination_file_path)\n",
    "                print(f\"Moved '{file_to_move}' to '{destination_directory}'\")\n",
    "\n",
    "        return f\"Moved {min(num_files_to_move, len(files))} files to {destination_directory}\"\n",
    "\n",
    "    except FileNotFoundError:\n",
    "        return \"Source or destination directory not found\"\n",
    "    except Exception as e:\n",
    "        return f\"An error occurred: {str(e)}\""
   ]
  },
  {
   "cell_type": "code",
   "execution_count": 4,
   "metadata": {},
   "outputs": [
    {
     "name": "stdout",
     "output_type": "stream",
     "text": [
      "Moved 'output_2023-10-08_22-04-34.wav' to 'Calf_Detection/Audio/Audio_Work_AE/normal_calf_subset'\n",
      "Moved 'output_2023-10-08_21-08-34.wav' to 'Calf_Detection/Audio/Audio_Work_AE/normal_calf_subset'\n",
      "Moved 'output_2023-10-08_17-13-34.wav' to 'Calf_Detection/Audio/Audio_Work_AE/normal_calf_subset'\n",
      "Moved 'output_2023-10-08_17-24-35.wav' to 'Calf_Detection/Audio/Audio_Work_AE/normal_calf_subset'\n",
      "Moved 'output_2023-10-08_16-38-34.wav' to 'Calf_Detection/Audio/Audio_Work_AE/normal_calf_subset'\n",
      "Moved 'output_2023-10-08_17-19-34.wav' to 'Calf_Detection/Audio/Audio_Work_AE/normal_calf_subset'\n",
      "Moved 'output_2023-10-08_16-23-35.wav' to 'Calf_Detection/Audio/Audio_Work_AE/normal_calf_subset'\n",
      "Moved 'output_2023-10-08_17-12-34.wav' to 'Calf_Detection/Audio/Audio_Work_AE/normal_calf_subset'\n",
      "Moved 'output_2023-10-08_21-10-34.wav' to 'Calf_Detection/Audio/Audio_Work_AE/normal_calf_subset'\n",
      "Moved 'output_2023-10-08_18-17-34.wav' to 'Calf_Detection/Audio/Audio_Work_AE/normal_calf_subset'\n",
      "Moved 'output_2023-10-08_18-28-34.wav' to 'Calf_Detection/Audio/Audio_Work_AE/normal_calf_subset'\n",
      "Moved 'output_2023-10-08_20-39-35.wav' to 'Calf_Detection/Audio/Audio_Work_AE/normal_calf_subset'\n",
      "Moved 'output_2023-10-08_23-54-35.wav' to 'Calf_Detection/Audio/Audio_Work_AE/normal_calf_subset'\n",
      "Moved 'output_2023-10-08_17-27-34.wav' to 'Calf_Detection/Audio/Audio_Work_AE/normal_calf_subset'\n",
      "Moved 'output_2023-10-08_21-07-35.wav' to 'Calf_Detection/Audio/Audio_Work_AE/normal_calf_subset'\n",
      "Moved 'output_2023-10-08_23-01-34.wav' to 'Calf_Detection/Audio/Audio_Work_AE/normal_calf_subset'\n",
      "Moved 'output_2023-10-08_23-58-34.wav' to 'Calf_Detection/Audio/Audio_Work_AE/normal_calf_subset'\n",
      "Moved 'output_2023-10-08_16-49-34.wav' to 'Calf_Detection/Audio/Audio_Work_AE/normal_calf_subset'\n",
      "Moved 'output_2023-10-08_22-42-35.wav' to 'Calf_Detection/Audio/Audio_Work_AE/normal_calf_subset'\n",
      "Moved 'output_2023-10-08_20-17-34.wav' to 'Calf_Detection/Audio/Audio_Work_AE/normal_calf_subset'\n",
      "Moved 'output_2023-10-08_18-11-34.wav' to 'Calf_Detection/Audio/Audio_Work_AE/normal_calf_subset'\n",
      "Moved 'output_2023-10-08_18-47-35.wav' to 'Calf_Detection/Audio/Audio_Work_AE/normal_calf_subset'\n",
      "Moved 'output_2023-10-08_21-49-35.wav' to 'Calf_Detection/Audio/Audio_Work_AE/normal_calf_subset'\n",
      "Moved 'output_2023-10-08_22-20-35.wav' to 'Calf_Detection/Audio/Audio_Work_AE/normal_calf_subset'\n",
      "Moved 'output_2023-10-08_23-14-34.wav' to 'Calf_Detection/Audio/Audio_Work_AE/normal_calf_subset'\n",
      "Moved 'output_2023-10-08_16-27-35.wav' to 'Calf_Detection/Audio/Audio_Work_AE/normal_calf_subset'\n",
      "Moved 'output_2023-10-08_21-42-34.wav' to 'Calf_Detection/Audio/Audio_Work_AE/normal_calf_subset'\n",
      "Moved 'output_2023-10-08_21-50-34.wav' to 'Calf_Detection/Audio/Audio_Work_AE/normal_calf_subset'\n",
      "Moved 'output_2023-10-08_19-50-34.wav' to 'Calf_Detection/Audio/Audio_Work_AE/normal_calf_subset'\n",
      "Moved 'output_2023-10-08_20-12-34.wav' to 'Calf_Detection/Audio/Audio_Work_AE/normal_calf_subset'\n",
      "Moved 'output_2023-10-08_17-07-34.wav' to 'Calf_Detection/Audio/Audio_Work_AE/normal_calf_subset'\n",
      "Moved 'output_2023-10-08_17-56-35.wav' to 'Calf_Detection/Audio/Audio_Work_AE/normal_calf_subset'\n",
      "Moved 'output_2023-10-08_19-42-34.wav' to 'Calf_Detection/Audio/Audio_Work_AE/normal_calf_subset'\n",
      "Moved 'output_2023-10-08_23-08-34.wav' to 'Calf_Detection/Audio/Audio_Work_AE/normal_calf_subset'\n",
      "Moved 'output_2023-10-08_21-12-34.wav' to 'Calf_Detection/Audio/Audio_Work_AE/normal_calf_subset'\n",
      "Moved 'output_2023-10-08_23-29-34.wav' to 'Calf_Detection/Audio/Audio_Work_AE/normal_calf_subset'\n",
      "Moved 'output_2023-10-08_16-56-34.wav' to 'Calf_Detection/Audio/Audio_Work_AE/normal_calf_subset'\n",
      "Moved 'output_2023-10-08_20-02-35.wav' to 'Calf_Detection/Audio/Audio_Work_AE/normal_calf_subset'\n",
      "Moved 'output_2023-10-08_23-28-34.wav' to 'Calf_Detection/Audio/Audio_Work_AE/normal_calf_subset'\n",
      "Moved 'output_2023-10-08_16-43-34.wav' to 'Calf_Detection/Audio/Audio_Work_AE/normal_calf_subset'\n",
      "Moved 'output_2023-10-08_17-05-34.wav' to 'Calf_Detection/Audio/Audio_Work_AE/normal_calf_subset'\n",
      "Moved 'output_2023-10-08_20-08-34.wav' to 'Calf_Detection/Audio/Audio_Work_AE/normal_calf_subset'\n",
      "Moved 'output_2023-10-08_17-38-35.wav' to 'Calf_Detection/Audio/Audio_Work_AE/normal_calf_subset'\n",
      "Moved 'output_2023-10-08_22-47-35.wav' to 'Calf_Detection/Audio/Audio_Work_AE/normal_calf_subset'\n",
      "Moved 'output_2023-10-08_21-40-34.wav' to 'Calf_Detection/Audio/Audio_Work_AE/normal_calf_subset'\n",
      "Moved 'output_2023-10-08_17-52-35.wav' to 'Calf_Detection/Audio/Audio_Work_AE/normal_calf_subset'\n",
      "Moved 'output_2023-10-08_18-09-34.wav' to 'Calf_Detection/Audio/Audio_Work_AE/normal_calf_subset'\n",
      "Moved 'output_2023-10-08_22-11-34.wav' to 'Calf_Detection/Audio/Audio_Work_AE/normal_calf_subset'\n",
      "Moved 'output_2023-10-08_19-59-34.wav' to 'Calf_Detection/Audio/Audio_Work_AE/normal_calf_subset'\n",
      "Moved 'output_2023-10-08_21-27-34.wav' to 'Calf_Detection/Audio/Audio_Work_AE/normal_calf_subset'\n",
      "Moved 'output_2023-10-08_20-41-34.wav' to 'Calf_Detection/Audio/Audio_Work_AE/normal_calf_subset'\n",
      "Moved 'output_2023-10-08_20-34-34.wav' to 'Calf_Detection/Audio/Audio_Work_AE/normal_calf_subset'\n",
      "Moved 'output_2023-10-08_19-33-34.wav' to 'Calf_Detection/Audio/Audio_Work_AE/normal_calf_subset'\n",
      "Moved 'output_2023-10-08_17-54-34.wav' to 'Calf_Detection/Audio/Audio_Work_AE/normal_calf_subset'\n",
      "Moved 'output_2023-10-08_16-51-34.wav' to 'Calf_Detection/Audio/Audio_Work_AE/normal_calf_subset'\n",
      "Moved 'output_2023-10-08_16-41-34.wav' to 'Calf_Detection/Audio/Audio_Work_AE/normal_calf_subset'\n",
      "Moved 'output_2023-10-08_22-43-34.wav' to 'Calf_Detection/Audio/Audio_Work_AE/normal_calf_subset'\n",
      "Moved 'output_2023-10-08_17-09-35.wav' to 'Calf_Detection/Audio/Audio_Work_AE/normal_calf_subset'\n",
      "Moved 'output_2023-10-08_18-22-35.wav' to 'Calf_Detection/Audio/Audio_Work_AE/normal_calf_subset'\n",
      "Moved 'output_2023-10-08_17-46-34.wav' to 'Calf_Detection/Audio/Audio_Work_AE/normal_calf_subset'\n",
      "Moved 60 files to Calf_Detection/Audio/Audio_Work_AE/normal_calf_subset\n"
     ]
    }
   ],
   "source": [
    "source_directory = 'Calf_Detection/Audio/Audio_Work_AE/normal_calf'\n",
    "destination_directory = 'Calf_Detection/Audio/Audio_Work_AE/normal_calf_subset'\n",
    "num_files_to_move = 60  # Currentlt 2 * abnormal \n",
    "result = move_sorted_files_to_directory(source_directory, destination_directory, num_files_to_move)\n",
    "print(result)"
   ]
  },
  {
   "cell_type": "code",
   "execution_count": null,
   "metadata": {},
   "outputs": [],
   "source": []
  }
 ],
 "metadata": {
  "kernelspec": {
   "display_name": "tf_od",
   "language": "python",
   "name": "tf_od"
  },
  "language_info": {
   "codemirror_mode": {
    "name": "ipython",
    "version": 3
   },
   "file_extension": ".py",
   "mimetype": "text/x-python",
   "name": "python",
   "nbconvert_exporter": "python",
   "pygments_lexer": "ipython3",
   "version": "3.9.17"
  }
 },
 "nbformat": 4,
 "nbformat_minor": 2
}
