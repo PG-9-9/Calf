{
 "cells": [
  {
   "cell_type": "code",
   "execution_count": 3,
   "metadata": {},
   "outputs": [],
   "source": [
    "import os"
   ]
  },
  {
   "cell_type": "code",
   "execution_count": 13,
   "metadata": {},
   "outputs": [],
   "source": [
    "def count_files_in_directory(directory_path):\n",
    "    try:\n",
    "        # Use os.listdir to get a list of all files and directories in the specified directory\n",
    "        files_and_directories = os.listdir(directory_path)\n",
    "        \n",
    "        # Initialize a counter for files\n",
    "        file_count = 0\n",
    "\n",
    "        # Iterate through the list and count files\n",
    "        for item in files_and_directories:\n",
    "            item_path = os.path.join(directory_path, item)\n",
    "            if os.path.isfile(item_path):\n",
    "                file_count += 1\n",
    "\n",
    "        return file_count\n",
    "\n",
    "    except FileNotFoundError:\n",
    "        return \"Directory not found\"\n",
    "    except Exception as e:\n",
    "        return f\"An error occurred: {str(e)}\"\n",
    "\n"
   ]
  },
  {
   "cell_type": "code",
   "execution_count": 14,
   "metadata": {},
   "outputs": [
    {
     "name": "stdout",
     "output_type": "stream",
     "text": [
      "Number of files in Calf_Detection/Audio/Audio_Work/wav_data: 26221\n"
     ]
    }
   ],
   "source": [
    "directory_path = '/home/woody/iwso/iwso122h/Calf_Detection/Audio/Audio_Work_AE/normal_training_set' \n",
    "file_count = count_files_in_directory(directory_path)\n",
    "print(f\"Number of files in {directory_path}: {file_count}\")"
   ]
  },
  {
   "cell_type": "code",
   "execution_count": 22,
   "metadata": {},
   "outputs": [
    {
     "name": "stdout",
     "output_type": "stream",
     "text": [
      "Number of files in Calf_Detection/Audio/Audio_Work_AE/abnormal_calf_superset: 30\n"
     ]
    }
   ],
   "source": [
    "directory_path = 'Calf_Detection/Audio/Audio_Work_AE/abnormal_calf_superset'\n",
    "file_count = count_files_in_directory(directory_path)\n",
    "print(f\"Number of files in {directory_path}: {file_count}\")"
   ]
  },
  {
   "cell_type": "code",
   "execution_count": 1,
   "metadata": {},
   "outputs": [],
   "source": [
    "import os\n",
    "from datetime import datetime\n",
    "\n",
    "def count_files_with_dates(directory, dates):\n",
    "    file_count = 0\n",
    "\n",
    "    for filename in os.listdir(directory):\n",
    "        if filename.startswith(\"output_\") and filename.endswith(\".wav\"):\n",
    "            file_date_str = filename.split(\"_\")[1]  # Extract date part from filename\n",
    "            file_date = datetime.strptime(file_date_str, \"%Y-%m-%d\")\n",
    "\n",
    "            if file_date.date() in dates:\n",
    "                file_count += 1\n",
    "\n",
    "    return file_count\n",
    "\n",
    "# Example usage:\n"
   ]
  },
  {
   "cell_type": "code",
   "execution_count": 7,
   "metadata": {},
   "outputs": [
    {
     "name": "stdout",
     "output_type": "stream",
     "text": [
      "Number of files: 457\n"
     ]
    }
   ],
   "source": [
    "directory_path = \"Calf_Detection/Audio/Audio_Work/wav_data\"\n",
    "dates_to_count = [datetime.strptime(date_str, \"%Y-%m-%d\").date() for date_str in [\"2023-10-08\"]]\n",
    "count = count_files_with_dates(directory_path, dates_to_count)\n",
    "print(\"Number of files:\", count)\n"
   ]
  },
  {
   "cell_type": "code",
   "execution_count": 2,
   "metadata": {},
   "outputs": [
    {
     "name": "stdout",
     "output_type": "stream",
     "text": [
      "Number of files: 60\n"
     ]
    }
   ],
   "source": [
    "directory_path = \"/home/woody/iwso/iwso122h/Calf_Detection/Audio/Audio_Work_AE/normal_calf_subset\"\n",
    "dates_to_count = [datetime.strptime(date_str, \"%Y-%m-%d\").date() for date_str in [\"2023-10-08\"]]\n",
    "count = count_files_with_dates(directory_path, dates_to_count)\n",
    "print(\"Number of files:\", count)\n"
   ]
  },
  {
   "cell_type": "code",
   "execution_count": 3,
   "metadata": {},
   "outputs": [
    {
     "name": "stdout",
     "output_type": "stream",
     "text": [
      "Files copied successfully.\n"
     ]
    }
   ],
   "source": [
    "import os\n",
    "from datetime import datetime\n",
    "import shutil\n",
    "\n",
    "# Including the date\n",
    "def copy_files_with_dates(source_directory, destination_directory, dates):\n",
    "    if not os.path.exists(destination_directory):\n",
    "        os.makedirs(destination_directory)\n",
    "\n",
    "    for filename in os.listdir(source_directory):\n",
    "        if filename.startswith(\"output_\") and filename.endswith(\".wav\"):\n",
    "            file_date_str = filename.split(\"_\")[1]  # Extract date part from filename\n",
    "            file_date = datetime.strptime(file_date_str, \"%Y-%m-%d\")\n",
    "\n",
    "            if file_date.date() in dates:\n",
    "                source_file_path = os.path.join(source_directory, filename)\n",
    "                destination_file_path = os.path.join(destination_directory, filename)\n",
    "                shutil.copy(source_file_path, destination_file_path)\n",
    "\n",
    "source_directory_path = \"/home/woody/iwso/iwso122h/Calf_Detection/Audio/Audio_Work_AE/normal_training_set\"\n",
    "destination_directory_path = \"/home/woody/iwso/iwso122h/Calf_Detection/Audio/Audio_Work_AE/normal_single_day/08_Oct\"\n",
    "dates_to_copy = [datetime.strptime(date_str, \"%Y-%m-%d\").date() for date_str in [\"2023-10-08\"]]\n",
    "copy_files_with_dates(source_directory_path, destination_directory_path, dates_to_copy)\n",
    "print(\"Files copied successfully.\")\n"
   ]
  },
  {
   "cell_type": "code",
   "execution_count": 2,
   "metadata": {},
   "outputs": [
    {
     "name": "stdout",
     "output_type": "stream",
     "text": [
      "2023-10-08: 457 files\n",
      "2023-10-10: 1440 files\n",
      "2023-10-13: 1440 files\n",
      "2023-10-14: 1440 files\n",
      "2023-10-15: 586 files\n",
      "2023-10-22: 88 files\n",
      "2023-10-23: 1440 files\n",
      "2023-10-24: 1440 files\n",
      "2023-10-26: 1440 files\n",
      "2023-10-27: 1440 files\n",
      "2023-10-28: 1440 files\n",
      "2023-10-29: 1440 files\n",
      "2023-10-30: 1440 files\n",
      "2023-11-01: 1440 files\n",
      "2023-11-02: 1440 files\n",
      "2023-11-03: 1440 files\n"
     ]
    }
   ],
   "source": [
    "import os\n",
    "from collections import defaultdict\n",
    "from datetime import datetime\n",
    "\n",
    "def count_files_per_date(directory):\n",
    "    files_per_date = defaultdict(int)\n",
    "\n",
    "    # Iterate through files in the directory\n",
    "    for filename in os.listdir(directory):\n",
    "        if filename.startswith(\"output_\") and filename.endswith(\".wav\"):\n",
    "            # Extract date from the filename\n",
    "            date_str = filename.split(\"_\")[1]\n",
    "            date = datetime.strptime(date_str, \"%Y-%m-%d\")\n",
    "            # Increment count for that date\n",
    "            files_per_date[date.date()] += 1\n",
    "    \n",
    "    # Print the counts\n",
    "    for date, count in sorted(files_per_date.items()):\n",
    "        print(f\"{date}: {count} files\")\n",
    "\n",
    "# Example usage\n",
    "directory = \"/home/woody/iwso/iwso122h/Calf_Detection/Audio/Audio_Work_AE/normal_training_set\"\n",
    "count_files_per_date(directory)\n"
   ]
  },
  {
   "cell_type": "code",
   "execution_count": null,
   "metadata": {},
   "outputs": [],
   "source": [
    "import os\n",
    "import shutil\n",
    "from datetime import datetime, timedelta\n",
    "\n",
    "def copy_wav_files_in_time_range(source_dir, dest_dir, specified_time):\n",
    "    # Ensure destination directory exists\n",
    "    os.makedirs(dest_dir, exist_ok=True)\n",
    "\n",
    "    # Parse the specified time\n",
    "    specified_datetime = datetime.strptime(specified_time, \"%H-%M-%S\")\n",
    "\n",
    "    # Calculate start and end times\n",
    "    start_time = (specified_datetime - timedelta(hours=2)).time()\n",
    "    end_time = (specified_datetime + timedelta(hours=2)).time()\n",
    "\n",
    "    files_copied = 0\n",
    "\n",
    "    for filename in os.listdir(source_dir):\n",
    "        if filename.endswith(\".wav\"):\n",
    "            # Extract the time part from the filename\n",
    "            file_time_str = filename.split('_')[-1].rsplit('.', 1)[0]\n",
    "            file_time = datetime.strptime(file_time_str, \"%H-%M-%S\").time()\n",
    "\n",
    "            if start_time <= file_time <= end_time:\n",
    "                source_path = os.path.join(source_dir, filename)\n",
    "                dest_path = os.path.join(dest_dir, filename)\n",
    "                shutil.copy2(source_path, dest_path)\n",
    "                files_copied += 1\n",
    "\n",
    "    print(f\"Number of files copied: {files_copied}\")\n",
    "\n",
    "# Example usage:\n",
    "source_directory = \"path/to/source_directory\"\n",
    "destination_directory = \"path/to/destination_directory\"\n",
    "time = \"00-00-34\"  # This is the specified time\n",
    "copy_wav_files_in_time_range(source_directory, destination_directory, time)\n"
   ]
  }
 ],
 "metadata": {
  "kernelspec": {
   "display_name": "Python 3",
   "language": "python",
   "name": "python3"
  },
  "language_info": {
   "codemirror_mode": {
    "name": "ipython",
    "version": 3
   },
   "file_extension": ".py",
   "mimetype": "text/x-python",
   "name": "python",
   "nbconvert_exporter": "python",
   "pygments_lexer": "ipython3",
   "version": "3.9.18"
  }
 },
 "nbformat": 4,
 "nbformat_minor": 2
}
