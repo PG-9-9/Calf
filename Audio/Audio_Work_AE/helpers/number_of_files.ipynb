{
 "cells": [
  {
   "cell_type": "code",
   "execution_count": 4,
   "metadata": {},
   "outputs": [],
   "source": [
    "import os"
   ]
  },
  {
   "cell_type": "code",
   "execution_count": 5,
   "metadata": {},
   "outputs": [],
   "source": [
    "def count_files_in_directory(directory_path):\n",
    "    try:\n",
    "        # Use os.listdir to get a list of all files and directories in the specified directory\n",
    "        files_and_directories = os.listdir(directory_path)\n",
    "        \n",
    "        # Initialize a counter for files\n",
    "        file_count = 0\n",
    "\n",
    "        # Iterate through the list and count files\n",
    "        for item in files_and_directories:\n",
    "            item_path = os.path.join(directory_path, item)\n",
    "            if os.path.isfile(item_path):\n",
    "                file_count += 1\n",
    "\n",
    "        return file_count\n",
    "\n",
    "    except FileNotFoundError:\n",
    "        return \"Directory not found\"\n",
    "    except Exception as e:\n",
    "        return f\"An error occurred: {str(e)}\"\n",
    "\n"
   ]
  },
  {
   "cell_type": "code",
   "execution_count": 6,
   "metadata": {},
   "outputs": [
    {
     "name": "stdout",
     "output_type": "stream",
     "text": [
      "Number of files in /home/woody/iwso/iwso122h/Calf_Detection/new_app/data/train: 2797\n"
     ]
    }
   ],
   "source": [
    "directory_path = '/home/woody/iwso/iwso122h/Calf_Detection/new_app/data/train' \n",
    "file_count = count_files_in_directory(directory_path)\n",
    "print(f\"Number of files in {directory_path}: {file_count}\")\n"
   ]
  },
  {
   "cell_type": "code",
   "execution_count": 7,
   "metadata": {},
   "outputs": [
    {
     "name": "stdout",
     "output_type": "stream",
     "text": [
      "Total Hours: 332\n",
      "Hours per Day:\n",
      "2023-10-08: 8 hours\n",
      "2023-10-10: 24 hours\n",
      "2023-10-13: 24 hours\n",
      "2023-10-14: 24 hours\n",
      "2023-10-15: 10 hours\n",
      "2023-10-22: 2 hours\n",
      "2023-10-23: 24 hours\n",
      "2023-10-24: 24 hours\n",
      "2023-10-26: 24 hours\n",
      "2023-10-27: 24 hours\n",
      "2023-10-28: 24 hours\n",
      "2023-10-29: 24 hours\n",
      "2023-10-30: 24 hours\n",
      "2023-11-01: 24 hours\n",
      "2023-11-02: 24 hours\n",
      "2023-11-03: 24 hours\n"
     ]
    }
   ],
   "source": [
    "import os\n",
    "from collections import defaultdict\n",
    "from datetime import datetime, timedelta\n",
    "\n",
    "import os\n",
    "import re\n",
    "from collections import defaultdict\n",
    "from datetime import datetime, timedelta\n",
    "\n",
    "import os\n",
    "from datetime import datetime\n",
    "from collections import defaultdict\n",
    "\n",
    "def count_hours(directory_path):\n",
    "    # A dictionary to hold the count of unique hours for each day\n",
    "    hours_per_day = defaultdict(set)\n",
    "    \n",
    "    # Loop through each file in the directory\n",
    "    for filename in os.listdir(directory_path):\n",
    "        if filename.endswith(\".wav\"):\n",
    "            # Extract the timestamp from the filename\n",
    "            timestamp_str = filename.split('_')[1] + '_' + filename.split('_')[2].split('.')[0]\n",
    "            timestamp = datetime.strptime(timestamp_str, \"%Y-%m-%d_%H-%M-%S\")\n",
    "            \n",
    "            # Add the hour to the set for the corresponding day\n",
    "            date_str = timestamp.strftime(\"%Y-%m-%d\")\n",
    "            hours_per_day[date_str].add(timestamp.hour)\n",
    "    \n",
    "    # Calculate total hours by summing the unique hours per day\n",
    "    total_hours = sum(len(hours) for hours in hours_per_day.values())\n",
    "    \n",
    "    # Print total hours\n",
    "    print(f\"Total Hours: {total_hours}\")\n",
    "    \n",
    "    # Print hours per day\n",
    "    print(\"Hours per Day:\")\n",
    "    for day, hours in hours_per_day.items():\n",
    "        print(f\"{day}: {len(hours)} hours\")\n",
    "\n",
    "# Example usage:\n",
    "directory_path = '/home/woody/iwso/iwso122h/Calf_Detection/Audio/Audio_Work_AE/normal_training_set'\n",
    "count_hours(directory_path)\n",
    "\n"
   ]
  },
  {
   "cell_type": "code",
   "execution_count": 9,
   "metadata": {},
   "outputs": [
    {
     "name": "stdout",
     "output_type": "stream",
     "text": [
      "output_2023-10-26_01-19-37.wav\n"
     ]
    }
   ],
   "source": [
    "import os\n",
    "\n",
    "def get_file_name_by_number(directory_path, file_number):\n",
    "    # Get a list of all files in the directory\n",
    "    files = [f for f in os.listdir(directory_path) if os.path.isfile(os.path.join(directory_path, f))]\n",
    "    \n",
    "    # Optionally, sort the files if you need them in a specific order\n",
    "    # This might be necessary if the file creation or modification times are relevant\n",
    "    files.sort()\n",
    "    \n",
    "    # Adjust for the file_number being 1-indexed\n",
    "    index = file_number - 1\n",
    "    \n",
    "    # Check if the file_number is within the range of available files\n",
    "    if 0 <= index < len(files):\n",
    "        return files[index]\n",
    "    else:\n",
    "        return \"File number out of range.\"\n",
    "\n",
    "# Example usage:\n",
    "directory_path = '/home/woody/iwso/iwso122h/Calf_Detection/Audio/Audio_Work_AE/normal_training_set'\n",
    "file_number = 8411  # For the first file\n",
    "print(get_file_name_by_number(directory_path, file_number))\n"
   ]
  },
  {
   "cell_type": "code",
   "execution_count": null,
   "metadata": {},
   "outputs": [],
   "source": []
  }
 ],
 "metadata": {
  "kernelspec": {
   "display_name": "Python 3",
   "language": "python",
   "name": "python3"
  },
  "language_info": {
   "codemirror_mode": {
    "name": "ipython",
    "version": 3
   },
   "file_extension": ".py",
   "mimetype": "text/x-python",
   "name": "python",
   "nbconvert_exporter": "python",
   "pygments_lexer": "ipython3",
   "version": "3.9.18"
  }
 },
 "nbformat": 4,
 "nbformat_minor": 2
}
