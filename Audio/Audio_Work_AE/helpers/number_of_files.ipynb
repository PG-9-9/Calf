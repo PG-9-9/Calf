{
 "cells": [
  {
   "cell_type": "code",
   "execution_count": 3,
   "metadata": {},
   "outputs": [],
   "source": [
    "import os"
   ]
  },
  {
   "cell_type": "code",
   "execution_count": 4,
   "metadata": {},
   "outputs": [],
   "source": [
    "def count_files_in_directory(directory_path):\n",
    "    try:\n",
    "        # Use os.listdir to get a list of all files and directories in the specified directory\n",
    "        files_and_directories = os.listdir(directory_path)\n",
    "        \n",
    "        # Initialize a counter for files\n",
    "        file_count = 0\n",
    "\n",
    "        # Iterate through the list and count files\n",
    "        for item in files_and_directories:\n",
    "            item_path = os.path.join(directory_path, item)\n",
    "            if os.path.isfile(item_path):\n",
    "                file_count += 1\n",
    "\n",
    "        return file_count\n",
    "\n",
    "    except FileNotFoundError:\n",
    "        return \"Directory not found\"\n",
    "    except Exception as e:\n",
    "        return f\"An error occurred: {str(e)}\"\n",
    "\n"
   ]
  },
  {
   "cell_type": "code",
   "execution_count": 5,
   "metadata": {},
   "outputs": [
    {
     "name": "stdout",
     "output_type": "stream",
     "text": [
      "Number of files in /home/woody/iwso/iwso122h/Calf_Detection/Audio/Audio_Work/wav_data: 26221\n"
     ]
    }
   ],
   "source": [
    "directory_path = '/home/woody/iwso/iwso122h/Calf_Detection/Audio/Audio_Work/wav_data' \n",
    "file_count = count_files_in_directory(directory_path)\n",
    "print(f\"Number of files in {directory_path}: {file_count}\")\n"
   ]
  },
  {
   "cell_type": "code",
   "execution_count": 7,
   "metadata": {},
   "outputs": [
    {
     "name": "stdout",
     "output_type": "stream",
     "text": [
      "Number of files matching 2023-11-08: 0\n",
      "Number of files matching 2023-10-13: 1440\n",
      "Number of files matching 2023-10-14: 1440\n"
     ]
    }
   ],
   "source": [
    "import os\n",
    "from collections import defaultdict\n",
    "from datetime import datetime\n",
    "\n",
    "def count_files_matching_date(directory_path, target_date_str):\n",
    "    # Convert the target date string to a datetime object\n",
    "    target_date = datetime.strptime(target_date_str, \"%Y-%m-%d\")\n",
    "    \n",
    "    # Count the number of files matching the target date\n",
    "    count = 0\n",
    "    for filename in os.listdir(directory_path):\n",
    "        if filename.endswith(\".wav\"):\n",
    "            # Extract the date from the filename\n",
    "            date_str = filename.split('_')[1].split('.')[0]\n",
    "            file_date = datetime.strptime(date_str, \"%Y-%m-%d\")\n",
    "            \n",
    "            # Check if the file date matches the target date\n",
    "            if file_date.date() == target_date.date():\n",
    "                count += 1\n",
    "    \n",
    "    return count\n",
    "\n",
    "# Example usage:\n",
    "directory_path = '/home/woody/iwso/iwso122h/Calf_Detection/Audio/Audio_Work/wav_data'\n",
    "target_date_str_1 = '2023-11-08'  # Target Date.\n",
    "target_date_str_2 = '2023-10-13'\n",
    "target_date_str_3 = '2023-10-14'\n",
    "matching_file_count = count_files_matching_date(directory_path, target_date_str_1)\n",
    "print(f\"Number of files matching {target_date_str_1}: {matching_file_count}\")\n",
    "matching_file_count = count_files_matching_date(directory_path, target_date_str_2)\n",
    "print(f\"Number of files matching {target_date_str_2}: {matching_file_count}\")\n",
    "matching_file_count = count_files_matching_date(directory_path, target_date_str_3)\n",
    "print(f\"Number of files matching {target_date_str_3}: {matching_file_count}\")\n",
    "\n"
   ]
  },
  {
   "cell_type": "markdown",
   "metadata": {},
   "source": []
  },
  {
   "cell_type": "code",
   "execution_count": 9,
   "metadata": {},
   "outputs": [
    {
     "name": "stdout",
     "output_type": "stream",
     "text": [
      "output_2023-10-26_01-19-37.wav\n"
     ]
    }
   ],
   "source": [
    "import os\n",
    "\n",
    "def get_file_name_by_number(directory_path, file_number):\n",
    "    # Get a list of all files in the directory\n",
    "    files = [f for f in os.listdir(directory_path) if os.path.isfile(os.path.join(directory_path, f))]\n",
    "    \n",
    "    # Optionally, sort the files if you need them in a specific order\n",
    "    # This might be necessary if the file creation or modification times are relevant\n",
    "    files.sort()\n",
    "    \n",
    "    # Adjust for the file_number being 1-indexed\n",
    "    index = file_number - 1\n",
    "    \n",
    "    # Check if the file_number is within the range of available files\n",
    "    if 0 <= index < len(files):\n",
    "        return files[index]\n",
    "    else:\n",
    "        return \"File number out of range.\"\n",
    "\n",
    "# Example usage:\n",
    "directory_path = '/home/woody/iwso/iwso122h/Calf_Detection/Audio/Audio_Work_AE/normal_training_set'\n",
    "file_number = 8411  # For the first file\n",
    "print(get_file_name_by_number(directory_path, file_number))\n"
   ]
  },
  {
   "cell_type": "code",
   "execution_count": null,
   "metadata": {},
   "outputs": [],
   "source": []
  }
 ],
 "metadata": {
  "kernelspec": {
   "display_name": "Python 3",
   "language": "python",
   "name": "python3"
  },
  "language_info": {
   "codemirror_mode": {
    "name": "ipython",
    "version": 3
   },
   "file_extension": ".py",
   "mimetype": "text/x-python",
   "name": "python",
   "nbconvert_exporter": "python",
   "pygments_lexer": "ipython3",
   "version": "3.9.18"
  }
 },
 "nbformat": 4,
 "nbformat_minor": 2
}
