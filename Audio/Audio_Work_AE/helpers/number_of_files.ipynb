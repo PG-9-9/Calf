{
 "cells": [
  {
   "cell_type": "code",
   "execution_count": 1,
   "metadata": {},
   "outputs": [],
   "source": [
    "import os"
   ]
  },
  {
   "cell_type": "code",
   "execution_count": 2,
   "metadata": {},
   "outputs": [
    {
     "name": "stdout",
     "output_type": "stream",
     "text": [
      "The history saving thread hit an unexpected error (OperationalError('disk I/O error')).History will not be written to the database.\n"
     ]
    }
   ],
   "source": [
    "def count_files_in_directory(directory_path):\n",
    "    try:\n",
    "        # Use os.listdir to get a list of all files and directories in the specified directory\n",
    "        files_and_directories = os.listdir(directory_path)\n",
    "        \n",
    "        # Initialize a counter for files\n",
    "        file_count = 0\n",
    "\n",
    "        # Iterate through the list and count files\n",
    "        for item in files_and_directories:\n",
    "            item_path = os.path.join(directory_path, item)\n",
    "            if os.path.isfile(item_path):\n",
    "                file_count += 1\n",
    "\n",
    "        return file_count\n",
    "\n",
    "    except FileNotFoundError:\n",
    "        return \"Directory not found\"\n",
    "    except Exception as e:\n",
    "        return f\"An error occurred: {str(e)}\"\n",
    "\n"
   ]
  },
  {
   "cell_type": "code",
   "execution_count": 3,
   "metadata": {},
   "outputs": [
    {
     "name": "stdout",
     "output_type": "stream",
     "text": [
      "Number of files in Calf_Detection/Audio/Audio_Work/wav_data: 26221\n"
     ]
    }
   ],
   "source": [
    "directory_path = 'Calf_Detection/Audio/Audio_Work/wav_data' \n",
    "file_count = count_files_in_directory(directory_path)\n",
    "print(f\"Number of files in {directory_path}: {file_count}\")"
   ]
  },
  {
   "cell_type": "code",
   "execution_count": 22,
   "metadata": {},
   "outputs": [
    {
     "name": "stdout",
     "output_type": "stream",
     "text": [
      "Number of files in Calf_Detection/Audio/Audio_Work_AE/abnormal_calf_superset: 30\n"
     ]
    }
   ],
   "source": [
    "directory_path = 'Calf_Detection/Audio/Audio_Work_AE/abnormal_calf_superset'\n",
    "file_count = count_files_in_directory(directory_path)\n",
    "print(f\"Number of files in {directory_path}: {file_count}\")"
   ]
  },
  {
   "cell_type": "code",
   "execution_count": null,
   "metadata": {},
   "outputs": [],
   "source": []
  }
 ],
 "metadata": {
  "kernelspec": {
   "display_name": "Python 3",
   "language": "python",
   "name": "python3"
  },
  "language_info": {
   "codemirror_mode": {
    "name": "ipython",
    "version": 3
   },
   "file_extension": ".py",
   "mimetype": "text/x-python",
   "name": "python",
   "nbconvert_exporter": "python",
   "pygments_lexer": "ipython3",
   "version": "3.9.17"
  }
 },
 "nbformat": 4,
 "nbformat_minor": 2
}
