{
 "cells": [
  {
   "cell_type": "code",
   "execution_count": 1,
   "metadata": {},
   "outputs": [],
   "source": [
    "import os\n",
    "import shutil\n"
   ]
  },
  {
   "cell_type": "code",
   "execution_count": 2,
   "metadata": {},
   "outputs": [],
   "source": [
    "def copy_files_around_specified_files(input_directory, specified_files, destination_directory):\n",
    "    try:\n",
    "        # Get a list of all files in the input directory\n",
    "        filenames = [f for f in os.listdir(input_directory) if os.path.isfile(os.path.join(input_directory, f))]\n",
    "\n",
    "        # Sort the filenames based on their timestamps\n",
    "        filenames.sort(key=lambda x: x.split('_')[1])\n",
    "\n",
    "        # Initialize a dictionary to store the result for each specified file\n",
    "        results = {}\n",
    "\n",
    "        for specified_file in specified_files:\n",
    "            try:\n",
    "                # Find the index of the specified file in the sorted list\n",
    "                specified_file_index = filenames.index(specified_file)\n",
    "\n",
    "                # Calculate the range of files to copy (8 files before, 8 files after, and the specified file)\n",
    "                start_index = max(0, specified_file_index - 8)\n",
    "                end_index = min(len(filenames), specified_file_index + 9)\n",
    "\n",
    "                # Check if there are already 16 files for the specified file\n",
    "                existing_files_count = sum(1 for f in filenames[start_index:end_index] if f.startswith(specified_file.split('.')[0]))\n",
    "\n",
    "                if existing_files_count == 16:\n",
    "                    results[specified_file] = f\"Skipping '{specified_file}' as there are already 16 files for it in the destination directory\"\n",
    "                else:\n",
    "                    # Ensure the destination directory exists; create it if not\n",
    "                    if not os.path.exists(destination_directory):\n",
    "                        os.makedirs(destination_directory)\n",
    "\n",
    "                    # Copy the selected files to the destination directory\n",
    "                    for i in range(start_index, end_index):\n",
    "                        file_to_copy = filenames[i]\n",
    "                        source_file_path = os.path.join(input_directory, file_to_copy)\n",
    "                        destination_file_path = os.path.join(destination_directory, file_to_copy)\n",
    "                        shutil.copy(source_file_path, destination_file_path)\n",
    "                        print(f\"Copied '{file_to_copy}' to '{destination_directory}'\")\n",
    "\n",
    "                    results[specified_file] = f\"Copied {end_index - start_index} files to {destination_directory}\"\n",
    "\n",
    "            except ValueError:\n",
    "                results[specified_file] = f\"'{specified_file}' not found in the list of filenames in {input_directory}\"\n",
    "\n",
    "        return results\n",
    "\n",
    "    except Exception as e:\n",
    "        return f\"An error occurred: {str(e)}\""
   ]
  },
  {
   "cell_type": "code",
   "execution_count": 3,
   "metadata": {},
   "outputs": [
    {
     "name": "stdout",
     "output_type": "stream",
     "text": [
      "Copied 'output_2023-10-14_19-55-21.wav' to 'Calf_Detection/Audio/Audio_Work_AE/ab'\n",
      "Copied 'output_2023-10-14_07-48-22.wav' to 'Calf_Detection/Audio/Audio_Work_AE/ab'\n",
      "Copied 'output_2023-10-14_08-32-21.wav' to 'Calf_Detection/Audio/Audio_Work_AE/ab'\n",
      "Copied 'output_2023-10-14_13-46-21.wav' to 'Calf_Detection/Audio/Audio_Work_AE/ab'\n",
      "Copied 'output_2023-10-14_08-13-21.wav' to 'Calf_Detection/Audio/Audio_Work_AE/ab'\n",
      "Copied 'output_2023-10-14_03-17-20.wav' to 'Calf_Detection/Audio/Audio_Work_AE/ab'\n",
      "Copied 'output_2023-10-14_14-37-21.wav' to 'Calf_Detection/Audio/Audio_Work_AE/ab'\n",
      "Copied 'output_2023-10-14_11-26-21.wav' to 'Calf_Detection/Audio/Audio_Work_AE/ab'\n",
      "Copied 'output_2023-10-14_16-01-21.wav' to 'Calf_Detection/Audio/Audio_Work_AE/ab'\n",
      "Copied 'output_2023-10-14_23-02-21.wav' to 'Calf_Detection/Audio/Audio_Work_AE/ab'\n",
      "Copied 'output_2023-10-14_01-26-23.wav' to 'Calf_Detection/Audio/Audio_Work_AE/ab'\n",
      "Copied 'output_2023-10-14_22-50-21.wav' to 'Calf_Detection/Audio/Audio_Work_AE/ab'\n",
      "Copied 'output_2023-10-14_22-02-21.wav' to 'Calf_Detection/Audio/Audio_Work_AE/ab'\n",
      "Copied 'output_2023-10-14_18-40-21.wav' to 'Calf_Detection/Audio/Audio_Work_AE/ab'\n",
      "Copied 'output_2023-10-14_09-19-21.wav' to 'Calf_Detection/Audio/Audio_Work_AE/ab'\n",
      "Copied 'output_2023-10-14_05-11-21.wav' to 'Calf_Detection/Audio/Audio_Work_AE/ab'\n",
      "Copied 'output_2023-10-14_17-27-21.wav' to 'Calf_Detection/Audio/Audio_Work_AE/ab'\n",
      "Copied 'output_2023-10-09_01-52-34.wav' to 'Calf_Detection/Audio/Audio_Work_AE/ab'\n",
      "Copied 'output_2023-10-09_20-28-35.wav' to 'Calf_Detection/Audio/Audio_Work_AE/ab'\n",
      "Copied 'output_2023-10-09_02-53-34.wav' to 'Calf_Detection/Audio/Audio_Work_AE/ab'\n",
      "Copied 'output_2023-10-09_14-11-34.wav' to 'Calf_Detection/Audio/Audio_Work_AE/ab'\n",
      "Copied 'output_2023-10-09_14-02-34.wav' to 'Calf_Detection/Audio/Audio_Work_AE/ab'\n",
      "Copied 'output_2023-10-09_06-48-35.wav' to 'Calf_Detection/Audio/Audio_Work_AE/ab'\n",
      "Copied 'output_2023-10-09_16-23-34.wav' to 'Calf_Detection/Audio/Audio_Work_AE/ab'\n",
      "Copied 'output_2023-10-09_03-46-34.wav' to 'Calf_Detection/Audio/Audio_Work_AE/ab'\n",
      "Copied 'output_2023-10-09_06-31-35.wav' to 'Calf_Detection/Audio/Audio_Work_AE/ab'\n",
      "Copied 'output_2023-10-09_21-08-34.wav' to 'Calf_Detection/Audio/Audio_Work_AE/ab'\n",
      "Copied 'output_2023-10-09_08-46-34.wav' to 'Calf_Detection/Audio/Audio_Work_AE/ab'\n",
      "Copied 'output_2023-10-09_23-34-35.wav' to 'Calf_Detection/Audio/Audio_Work_AE/ab'\n",
      "Copied 'output_2023-10-09_09-57-34.wav' to 'Calf_Detection/Audio/Audio_Work_AE/ab'\n",
      "Copied 'output_2023-10-09_15-16-34.wav' to 'Calf_Detection/Audio/Audio_Work_AE/ab'\n",
      "Copied 'output_2023-10-09_16-27-34.wav' to 'Calf_Detection/Audio/Audio_Work_AE/ab'\n",
      "Copied 'output_2023-10-09_20-36-35.wav' to 'Calf_Detection/Audio/Audio_Work_AE/ab'\n",
      "Copied 'output_2023-10-09_02-39-34.wav' to 'Calf_Detection/Audio/Audio_Work_AE/ab'\n",
      "Results for 'output_2023-10-14_16-01-21.wav': Copied 17 files to Calf_Detection/Audio/Audio_Work_AE/ab\n",
      "Results for 'output_2023-10-09_06-31-35.wav': Copied 17 files to Calf_Detection/Audio/Audio_Work_AE/ab\n"
     ]
    }
   ],
   "source": [
    "\n",
    "#files with moo calls\n",
    "specified_files = [\n",
    "    'output_2023-10-14_16-01-21.wav',  # birth 2 17 files \n",
    "    'output_2023-10-09_06-31-35.wav',  # birth 3 17 files \n",
    "    \n",
    "]\n",
    "\n",
    "input_directory = 'Calf_Detection/Audio/Audio_Work/wav_data'\n",
    "destination_directory = 'Calf_Detection/Audio/Audio_Work_AE/ab'\n",
    "\n",
    "results = copy_files_around_specified_files(input_directory, specified_files, destination_directory)\n",
    "\n",
    "for specified_file, result in results.items():\n",
    "    print(f\"Results for '{specified_file}': {result}\")"
   ]
  },
  {
   "cell_type": "code",
   "execution_count": null,
   "metadata": {},
   "outputs": [],
   "source": []
  }
 ],
 "metadata": {
  "kernelspec": {
   "display_name": "tf_od",
   "language": "python",
   "name": "tf_od"
  },
  "language_info": {
   "codemirror_mode": {
    "name": "ipython",
    "version": 3
   },
   "file_extension": ".py",
   "mimetype": "text/x-python",
   "name": "python",
   "nbconvert_exporter": "python",
   "pygments_lexer": "ipython3",
   "version": "3.9.17"
  }
 },
 "nbformat": 4,
 "nbformat_minor": 2
}
