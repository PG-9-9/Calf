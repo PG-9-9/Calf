{
 "cells": [
  {
   "cell_type": "code",
   "execution_count": 11,
   "metadata": {},
   "outputs": [],
   "source": [
    "import os\n",
    "import difflib\n",
    "import re"
   ]
  },
  {
   "cell_type": "code",
   "execution_count": 15,
   "metadata": {},
   "outputs": [],
   "source": [
    "def extract_timestamp(filename):\n",
    "    # Extract timestamp components from the filename using regular expressions\n",
    "    pattern = r'output_(\\d{4}-\\d{2}-\\d{2}_\\d{2}-\\d{2}-\\d{2})\\.wav'\n",
    "    match = re.search(pattern, filename)\n",
    "    \n",
    "    if match:\n",
    "        timestamp = match.group(1)\n",
    "        return timestamp\n",
    "    else:\n",
    "        return None\n",
    "\n",
    "def find_closest_matching_files(directory, target_filename):\n",
    "    target_timestamp = extract_timestamp(target_filename)\n",
    "\n",
    "    if not target_timestamp:\n",
    "        print(f\"Invalid filename format: '{target_filename}'\")\n",
    "        return\n",
    "\n",
    "    # Get a list of all files in the directory\n",
    "    files_in_directory = os.listdir(directory)\n",
    "\n",
    "    # Check if the actual timestamp exists in the directory\n",
    "    if target_timestamp in files_in_directory:\n",
    "        print(f\"The file with the timestamp '{target_timestamp}' exists in the directory.\")\n",
    "    else:\n",
    "        # Find closest matching filenames based on timestamp components\n",
    "        closest_matches = difflib.get_close_matches(target_timestamp, files_in_directory, n=3)\n",
    "        \n",
    "        if closest_matches:\n",
    "            print(f\"No exact match found for timestamp '{target_timestamp}'.\")\n",
    "            print(f\"Closest matching filenames based on timestamp components for '{target_filename}':\")\n",
    "            for match in closest_matches:\n",
    "                print(match)\n",
    "        else:\n",
    "            print(f\"No matching files found based on timestamp components for '{target_filename}'\")"
   ]
  },
  {
   "cell_type": "code",
   "execution_count": 19,
   "metadata": {},
   "outputs": [
    {
     "name": "stdout",
     "output_type": "stream",
     "text": [
      "No exact match found for timestamp '2023-11-04_13-53-01'.\n",
      "Closest matching filenames based on timestamp components for 'output_2023-11-04_13-53-01.wav':\n",
      "output_2023-11-04_12-53-37.wav\n",
      "output_2023-11-04_11-53-37.wav\n",
      "output_2023-11-04_10-53-37.wav\n",
      "No exact match found for timestamp '2023-10-09_06-31-01'.\n",
      "Closest matching filenames based on timestamp components for 'output_2023-10-09_06-31-01.wav':\n",
      "output_2023-10-09_06-31-35.wav\n",
      "output_2023-10-30_06-31-37.wav\n",
      "output_2023-10-29_06-31-37.wav\n",
      "No exact match found for timestamp '2023-10-17_16-01-01'.\n",
      "Closest matching filenames based on timestamp components for 'output_2023-10-17_16-01-01.wav':\n",
      "output_2023-10-14_16-01-21.wav\n",
      "output_2023-10-31_16-01-37.wav\n",
      "output_2023-10-27_16-01-37.wav\n"
     ]
    }
   ],
   "source": [
    "directory = 'Calf_Detection/Audio/Audio_Work/wav_data'\n",
    "target_filename_1 = 'output_2023-11-04_13-53-01.wav'\n",
    "target_filename_2='output_2023-10-09_06-31-01.wav'\n",
    "target_filename_3='output_2023-10-17_16-01-01.wav'\n",
    "find_closest_matching_files(directory, target_filename_1)\n",
    "find_closest_matching_files(directory, target_filename_2)\n",
    "find_closest_matching_files(directory, target_filename_3)"
   ]
  },
  {
   "cell_type": "code",
   "execution_count": null,
   "metadata": {},
   "outputs": [],
   "source": []
  }
 ],
 "metadata": {
  "kernelspec": {
   "display_name": "tf_od",
   "language": "python",
   "name": "tf_od"
  }
 },
 "nbformat": 4,
 "nbformat_minor": 2
}
