{
 "cells": [
  {
   "cell_type": "code",
   "execution_count": 1,
   "metadata": {},
   "outputs": [],
   "source": [
    "import nbformat\n",
    "from nbconvert import PythonExporter\n",
    "\n",
    "# Load the Jupyter Notebook\n",
    "notebook_file = 'Calf_Detection/Audio/Audio_Work_AE/Auto_encoder_calf.ipynb'\n",
    "with open(notebook_file, 'r', encoding='utf-8') as nb_file:\n",
    "    notebook_content = nbformat.read(nb_file, as_version=4)\n",
    "\n",
    "# Initialize the PythonExporter\n",
    "python_exporter = PythonExporter()\n",
    "\n",
    "# Convert the notebook to Python code\n",
    "python_code, _ = python_exporter.from_notebook_node(notebook_content)\n",
    "\n",
    "# Save the Python code to a .py file\n",
    "with open('Calf_Detection/Audio/Audio_Work_AE/Advanced_Calf.py', 'w', encoding='utf-8') as py_file:\n",
    "    py_file.write(python_code)\n"
   ]
  },
  {
   "cell_type": "code",
   "execution_count": null,
   "metadata": {},
   "outputs": [],
   "source": []
  }
 ],
 "metadata": {
  "kernelspec": {
   "display_name": "Python 3",
   "language": "python",
   "name": "python3"
  },
  "language_info": {
   "codemirror_mode": {
    "name": "ipython",
    "version": 3
   },
   "file_extension": ".py",
   "mimetype": "text/x-python",
   "name": "python",
   "nbconvert_exporter": "python",
   "pygments_lexer": "ipython3",
   "version": "3.9.17"
  }
 },
 "nbformat": 4,
 "nbformat_minor": 2
}
