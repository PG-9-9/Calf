{
 "cells": [
  {
   "cell_type": "code",
   "execution_count": 1,
   "metadata": {},
   "outputs": [],
   "source": [
    "import os\n",
    "import shutil\n",
    "from datetime import datetime, timedelta"
   ]
  },
  {
   "cell_type": "code",
   "execution_count": 2,
   "metadata": {},
   "outputs": [],
   "source": [
    "def count_files(directory):\n",
    "    \"\"\"Counts the number of files in the given directory.\"\"\"\n",
    "    if not os.path.exists(directory):\n",
    "        print(\"Directory does not exist.\")\n",
    "        return 0\n",
    "\n",
    "    file_count = 0\n",
    "    for item in os.listdir(directory):\n",
    "        if os.path.isfile(os.path.join(directory, item)):\n",
    "            file_count += 1\n",
    "\n",
    "    return file_count"
   ]
  },
  {
   "cell_type": "code",
   "execution_count": 3,
   "metadata": {},
   "outputs": [
    {
     "name": "stdout",
     "output_type": "stream",
     "text": [
      "There are 26651 wav files in the directory.\n",
      "There are 26651 m4a files in the directory.\n"
     ]
    }
   ],
   "source": [
    "file_count = count_files('Audio_Work/wav_data')\n",
    "print(f'There are {file_count} wav files in the directory.')\n",
    "file_count = count_files('new_training_data/audio')\n",
    "print(f'There are {file_count} m4a files in the directory.')"
   ]
  },
  {
   "cell_type": "code",
   "execution_count": 6,
   "metadata": {},
   "outputs": [],
   "source": [
    "def copy_files_within_hours(file_name, file_directory, new_directory):\n",
    "    # Ensure file_directory is a valid directory\n",
    "    if not os.path.isdir(file_directory):\n",
    "        print(f\"The directory {file_directory} does not exist.\")\n",
    "        return\n",
    "\n",
    "    # Step 1: Extract the timestamp from the filename\n",
    "    try:\n",
    "        timestamp_str = file_name.split('_')[1] + '_' + file_name.split('_')[2].split('.')[0]\n",
    "        file_timestamp = datetime.strptime(timestamp_str, \"%Y-%m-%d_%H-%M-%S\")\n",
    "    except (IndexError, ValueError):\n",
    "        print(f\"Timestamp format is incorrect in the file name: {file_name}\")\n",
    "        return\n",
    "\n",
    "    # Define the time range: previous and next hour\n",
    "    prev_hour = file_timestamp - timedelta(hours=1)\n",
    "    next_hour = file_timestamp + timedelta(hours=1)\n",
    "\n",
    "    # Step 2: Filter files based on timestamp criteria\n",
    "    selected_files = []\n",
    "    for f in os.listdir(file_directory):\n",
    "        if os.path.isfile(os.path.join(file_directory, f)):\n",
    "            try:\n",
    "                timestamp_str = f.split('_')[1] + '_' + f.split('_')[2].split('.')[0]\n",
    "                timestamp = datetime.strptime(timestamp_str, \"%Y-%m-%d_%H-%M-%S\")\n",
    "                if prev_hour <= timestamp <= next_hour:\n",
    "                    selected_files.append(f)\n",
    "            except (IndexError, ValueError):\n",
    "                continue  # Skip files that do not match the format\n",
    "\n",
    "    # Step 3: Create the new directory and sub-directory, and copy files\n",
    "    if not os.path.exists(new_directory):\n",
    "        os.makedirs(new_directory)\n",
    "\n",
    "    sub_directory_name = os.path.splitext(file_name)[0]  # Remove file extension\n",
    "    sub_directory = os.path.join(new_directory, sub_directory_name)\n",
    "    if not os.path.exists(sub_directory):\n",
    "        os.makedirs(sub_directory)\n",
    "\n",
    "    num_copied_files = 0\n",
    "    for f in selected_files:\n",
    "        shutil.copy2(os.path.join(file_directory, f), sub_directory)\n",
    "        num_copied_files += 1\n",
    "\n",
    "    print(f\"Copied {num_copied_files} files from {prev_hour.strftime('%Y-%m-%d_%H')} to {next_hour.strftime('%Y-%m-%d_%H')} to sub-directory: {sub_directory}.\")\n",
    "\n",
    "# copy_files_within_hours('output_2023-10-09_06-33-01.wav', 'Audio_Work/wav_data', 'Audio_Work/birth_inference_wav')\n"
   ]
  },
  {
   "cell_type": "code",
   "execution_count": 9,
   "metadata": {},
   "outputs": [
    {
     "name": "stdout",
     "output_type": "stream",
     "text": [
      "Copied 0 files from 2023-10-17_15 to 2023-10-17_17 to sub-directory: Audio_Work/birth_inference_wav/output_2023-10-17_16-01-01.\n"
     ]
    }
   ],
   "source": [
    "file_name_1=\"output_2023-10-09_06-33-01.wav\" # birth call instance 1\n",
    "file_name_2=\"output_2023-10-08_16-23-35.wav\" # no birth call\n",
    "file_name_3=\"output_2023-10-17_16-01-01.wav\" # birth call instance 2 and doesn't exist\n",
    "file_name_4=\"output_2023-11-04_06-31-01.wav\" # birth call instance 3\n",
    "\n",
    "copy_files_within_hours(file_name_3, 'Audio_Work/wav_data', 'Audio_Work/birth_inference_wav')\n",
    "\n"
   ]
  },
  {
   "cell_type": "code",
   "execution_count": 13,
   "metadata": {},
   "outputs": [],
   "source": [
    "import os\n",
    "import shutil\n",
    "from datetime import datetime, timedelta\n",
    "\n",
    "def copy_files_within_specified_range(file_name, file_directory, new_directory):\n",
    "    # Ensure file_directory is a valid directory\n",
    "    if not os.path.isdir(file_directory):\n",
    "        print(f\"The directory {file_directory} does not exist.\")\n",
    "        return\n",
    "\n",
    "    # Step 1: Extract the timestamp from the filename\n",
    "    try:\n",
    "        timestamp_str = file_name.split('_')[1] + '_' + file_name.split('_')[2].split('.')[0]\n",
    "        file_timestamp = datetime.strptime(timestamp_str, \"%Y-%m-%d_%H-%M-%S\")\n",
    "    except (IndexError, ValueError):\n",
    "        print(f\"Timestamp format is incorrect in the file name: {file_name}\")\n",
    "        return\n",
    "\n",
    "    # Define the time range\n",
    "    prev_time = file_timestamp - timedelta(minutes=7)\n",
    "    next_time = file_timestamp + timedelta(minutes=7)\n",
    "\n",
    "    # Check if the specific file exists\n",
    "    specific_file_exists = os.path.isfile(os.path.join(file_directory, file_name))\n",
    "\n",
    "    # Adjust time range if specific file does not exist\n",
    "    if not specific_file_exists:\n",
    "        print(f\"The specific file {file_name} does not exist.\")\n",
    "        prev_time -= timedelta(minutes=1)\n",
    "\n",
    "    # Step 2: Filter files based on timestamp criteria\n",
    "    selected_files = []\n",
    "    for f in os.listdir(file_directory):\n",
    "        if os.path.isfile(os.path.join(file_directory, f)):\n",
    "            try:\n",
    "                timestamp_str = f.split('_')[1] + '_' + f.split('_')[2].split('.')[0]\n",
    "                timestamp = datetime.strptime(timestamp_str, \"%Y-%m-%d_%H-%M-%S\")\n",
    "                if prev_time <= timestamp <= next_time:\n",
    "                    selected_files.append(f)\n",
    "            except (IndexError, ValueError):\n",
    "                continue  # Skip files that do not match the format\n",
    "\n",
    "    # Step 3: Create the new directory and sub-directory, and copy files\n",
    "    if not os.path.exists(new_directory):\n",
    "        os.makedirs(new_directory)\n",
    "\n",
    "    sub_directory_name = os.path.splitext(file_name)[0]  # Remove file extension\n",
    "    sub_directory = os.path.join(new_directory, sub_directory_name)\n",
    "    if not os.path.exists(sub_directory):\n",
    "        os.makedirs(sub_directory)\n",
    "\n",
    "    num_copied_files = 0\n",
    "    for f in selected_files:\n",
    "        shutil.copy2(os.path.join(file_directory, f), sub_directory)\n",
    "        num_copied_files += 1\n",
    "\n",
    "    print(f\"Copied {num_copied_files} files from {prev_time.strftime('%Y-%m-%d_%H-%M-%S')} to {next_time.strftime('%Y-%m-%d_%H-%M-%S')} to sub-directory: {sub_directory}.\")\n",
    "\n"
   ]
  },
  {
   "cell_type": "code",
   "execution_count": 14,
   "metadata": {},
   "outputs": [
    {
     "name": "stdout",
     "output_type": "stream",
     "text": [
      "The specific file output_2023-10-09_06-33-01.wav does not exist.\n",
      "Copied 15 files from 2023-10-09_06-25-01 to 2023-10-09_06-40-01 to sub-directory: Audio_Work/birth_inference_minutes_wav/output_2023-10-09_06-33-01.\n",
      "The specific file output_2023-11-04_06-31-01.wav does not exist.\n",
      "Copied 15 files from 2023-11-04_06-23-01 to 2023-11-04_06-38-01 to sub-directory: Audio_Work/birth_inference_minutes_wav/output_2023-11-04_06-31-01.\n"
     ]
    }
   ],
   "source": [
    "file_name_1=\"output_2023-10-09_06-33-01.wav\" # birth call instance 1\n",
    "file_name_2=\"output_2023-10-08_16-23-35.wav\" # no birth call\n",
    "file_name_3=\"output_2023-10-17_16-01-01.wav\" # birth call instance 2 and doesn't exist\n",
    "file_name_4=\"output_2023-11-04_06-31-01.wav\" # birth call instance 3\n",
    "\n",
    "copy_files_within_specified_range(file_name_1, 'Audio_Work/wav_data', 'Audio_Work/birth_inference_minutes_wav')\n",
    "copy_files_within_specified_range(file_name_4, 'Audio_Work/wav_data', 'Audio_Work/birth_inference_minutes_wav')\n",
    "\n"
   ]
  },
  {
   "cell_type": "code",
   "execution_count": null,
   "metadata": {},
   "outputs": [],
   "source": []
  }
 ],
 "metadata": {
  "kernelspec": {
   "display_name": "calf",
   "language": "python",
   "name": "python3"
  },
  "language_info": {
   "codemirror_mode": {
    "name": "ipython",
    "version": 3
   },
   "file_extension": ".py",
   "mimetype": "text/x-python",
   "name": "python",
   "nbconvert_exporter": "python",
   "pygments_lexer": "ipython3",
   "version": "3.11.5"
  }
 },
 "nbformat": 4,
 "nbformat_minor": 2
}
