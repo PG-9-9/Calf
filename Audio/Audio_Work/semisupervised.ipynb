{
 "cells": [
  {
   "cell_type": "code",
   "execution_count": 1,
   "metadata": {},
   "outputs": [
    {
     "name": "stderr",
     "output_type": "stream",
     "text": [
      "2023-12-15 08:41:30.431971: I tensorflow/core/util/port.cc:110] oneDNN custom operations are on. You may see slightly different numerical results due to floating-point round-off errors from different computation orders. To turn them off, set the environment variable `TF_ENABLE_ONEDNN_OPTS=0`.\n",
      "2023-12-15 08:41:30.433448: I tensorflow/tsl/cuda/cudart_stub.cc:28] Could not find cuda drivers on your machine, GPU will not be used.\n",
      "2023-12-15 08:41:30.462840: I tensorflow/tsl/cuda/cudart_stub.cc:28] Could not find cuda drivers on your machine, GPU will not be used.\n",
      "2023-12-15 08:41:30.463438: I tensorflow/core/platform/cpu_feature_guard.cc:182] This TensorFlow binary is optimized to use available CPU instructions in performance-critical operations.\n",
      "To enable the following instructions: AVX2 AVX_VNNI FMA, in other operations, rebuild TensorFlow with the appropriate compiler flags.\n",
      "2023-12-15 08:41:31.099444: W tensorflow/compiler/tf2tensorrt/utils/py_utils.cc:38] TF-TRT Warning: Could not find TensorRT\n"
     ]
    }
   ],
   "source": [
    "import os\n",
    "import librosa\n",
    "import numpy as np\n",
    "from keras.models import Sequential\n",
    "from keras.layers import LSTM, Dense, TimeDistributed, RepeatVector\n",
    "from sklearn.preprocessing import MinMaxScaler\n"
   ]
  },
  {
   "cell_type": "code",
   "execution_count": 2,
   "metadata": {},
   "outputs": [],
   "source": [
    "# Loading the audio files.\n",
    "def load_and_preprocess_audio(directory, sr=44100, duration=60):\n",
    "    max_length = sr * duration\n",
    "    audio_data = []\n",
    "    for file in os.listdir(directory):\n",
    "        if file.endswith('.wav'):\n",
    "            path = os.path.join(directory, file)\n",
    "            data, _ = librosa.load(path, sr=sr)\n",
    "            if len(data) > max_length:\n",
    "                data = data[:max_length]\n",
    "            else:\n",
    "                data = np.pad(data, (0, max_length - len(data)), 'constant')\n",
    "            audio_data.append(data)\n",
    "    return np.array(audio_data)\n"
   ]
  },
  {
   "cell_type": "code",
   "execution_count": 3,
   "metadata": {},
   "outputs": [],
   "source": [
    "# Extracting the features from the audio data.\n",
    "#TODO : Look for better feature extractor.\n",
    "def extract_features(audio_data):\n",
    "    features = [librosa.feature.mfcc(y=data, sr=22050, n_mfcc=20).T for data in audio_data]\n",
    "    return features\n"
   ]
  },
  {
   "cell_type": "code",
   "execution_count": 4,
   "metadata": {},
   "outputs": [],
   "source": [
    "# preprocessing the data using MinMaxScaler.\n",
    "def preprocess_data(features):\n",
    "    scaler = MinMaxScaler()\n",
    "    scaled_features = [scaler.fit_transform(feature) for feature in features]\n",
    "    return np.array(scaled_features)\n"
   ]
  },
  {
   "cell_type": "code",
   "execution_count": 5,
   "metadata": {},
   "outputs": [],
   "source": [
    "# LSTM Model\n",
    "def build_model(input_shape):\n",
    "    model = Sequential([\n",
    "        LSTM(128, input_shape=input_shape, return_sequences=True),\n",
    "        LSTM(64, return_sequences=False),\n",
    "        RepeatVector(input_shape[0]),\n",
    "        LSTM(64, return_sequences=True),\n",
    "        LSTM(128, return_sequences=True),\n",
    "        TimeDistributed(Dense(input_shape[1]))\n",
    "    ])\n",
    "    model.compile(optimizer='adam', loss='mse')\n",
    "    return model\n"
   ]
  },
  {
   "cell_type": "code",
   "execution_count": 6,
   "metadata": {},
   "outputs": [],
   "source": [
    "# Training the model.   \n",
    "def train_model(model, data, epochs=10, batch_size=32):\n",
    "    model.fit(data, data, epochs=epochs, batch_size=batch_size)\n"
   ]
  },
  {
   "cell_type": "code",
   "execution_count": 7,
   "metadata": {},
   "outputs": [],
   "source": [
    "# Detecting the anamolies.\n",
    "def detect_anomalies(model, data, threshold=0.1):\n",
    "    predictions = model.predict(data)\n",
    "    anomalies = []\n",
    "    for i in range(len(data)):\n",
    "        loss = np.mean(np.abs(data[i] - predictions[i]))\n",
    "        if loss > threshold:\n",
    "            anomalies.append(i)\n",
    "    return anomalies\n",
    "\n",
    "        "
   ]
  },
  {
   "cell_type": "code",
   "execution_count": 8,
   "metadata": {},
   "outputs": [
    {
     "name": "stderr",
     "output_type": "stream",
     "text": [
      "2023-12-15 08:41:34.745748: I tensorflow/compiler/xla/stream_executor/cuda/cuda_gpu_executor.cc:995] successful NUMA node read from SysFS had negative value (-1), but there must be at least one NUMA node, so returning NUMA node zero. See more at https://github.com/torvalds/linux/blob/v6.0/Documentation/ABI/testing/sysfs-bus-pci#L344-L355\n",
      "2023-12-15 08:41:34.746624: W tensorflow/core/common_runtime/gpu/gpu_device.cc:1960] Cannot dlopen some GPU libraries. Please make sure the missing libraries mentioned above are installed properly if you would like to use GPU. Follow the guide at https://www.tensorflow.org/install/gpu for how to download and setup the required libraries for your platform.\n",
      "Skipping registering GPU devices...\n"
     ]
    },
    {
     "name": "stdout",
     "output_type": "stream",
     "text": [
      "Epoch 1/10\n",
      "1/1 [==============================] - 13s 13s/step - loss: 0.2889\n",
      "Epoch 2/10\n",
      "1/1 [==============================] - 8s 8s/step - loss: 0.2317\n",
      "Epoch 3/10\n",
      "1/1 [==============================] - 9s 9s/step - loss: 0.1686\n",
      "Epoch 4/10\n",
      "1/1 [==============================] - 9s 9s/step - loss: 0.0907\n",
      "Epoch 5/10\n",
      "1/1 [==============================] - 9s 9s/step - loss: 0.0436\n",
      "Epoch 6/10\n",
      "1/1 [==============================] - 8s 8s/step - loss: 0.0480\n",
      "Epoch 7/10\n",
      "1/1 [==============================] - 8s 8s/step - loss: 0.0389\n",
      "Epoch 8/10\n",
      "1/1 [==============================] - 7s 7s/step - loss: 0.0281\n",
      "Epoch 9/10\n",
      "1/1 [==============================] - 7s 7s/step - loss: 0.0259\n",
      "Epoch 10/10\n",
      "1/1 [==============================] - 8s 8s/step - loss: 0.0269\n",
      "1/1 [==============================] - 2s 2s/step\n",
      "Anomalies found at indices: [0, 1, 2, 3, 4, 5, 6, 7, 8, 9, 10, 11, 12, 13, 14]\n"
     ]
    }
   ],
   "source": [
    "directory = 'Audio_Work/birth_inference_minutes_wav/output_2023-10-09_06-33-01'\n",
    "audio_data = load_and_preprocess_audio(directory)\n",
    "features = extract_features(audio_data)\n",
    "processed_data = preprocess_data(features)\n",
    "\n",
    "model = build_model(input_shape=processed_data.shape[1:])\n",
    "train_model(model, processed_data)\n",
    "\n",
    "anomalies = detect_anomalies(model, processed_data)\n",
    "print(\"Anomalies found at indices:\", anomalies)\n"
   ]
  },
  {
   "cell_type": "code",
   "execution_count": null,
   "metadata": {},
   "outputs": [],
   "source": []
  }
 ],
 "metadata": {
  "kernelspec": {
   "display_name": "audio_class",
   "language": "python",
   "name": "python3"
  },
  "language_info": {
   "codemirror_mode": {
    "name": "ipython",
    "version": 3
   },
   "file_extension": ".py",
   "mimetype": "text/x-python",
   "name": "python",
   "nbconvert_exporter": "python",
   "pygments_lexer": "ipython3",
   "version": "3.11.5"
  }
 },
 "nbformat": 4,
 "nbformat_minor": 2
}
