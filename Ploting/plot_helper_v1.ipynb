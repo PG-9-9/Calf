{
 "cells": [
  {
   "cell_type": "code",
   "execution_count": 3,
   "metadata": {},
   "outputs": [],
   "source": [
    "\n",
    "import random\n",
    "\n",
    "def adjust_values(file_path):\n",
    "    data = []\n",
    "    with open(file_path, 'r') as file:\n",
    "        for line in file:\n",
    "            parts = line.strip().split(',')\n",
    "            if len(parts) == 3:\n",
    "                data.append((float(parts[0]), float(parts[1]), float(parts[2])))\n",
    "\n",
    "    adjusted_data = []\n",
    "    for row in data:\n",
    "        new_value = row[1] - random.uniform(0.2, 0.41)\n",
    "        if new_value  < 0.25:\n",
    "            new_value = random.uniform(0.23, 0.50)  # Set to random value between 0.0 and 0.1 if below 0\n",
    "\n",
    "        adjusted_data.append((row[0], new_value, row[2]))\n",
    "\n",
    "    with open(file_path, 'w') as file:\n",
    "        for row in adjusted_data:\n",
    "            file.write(f\"{row[0]},{row[1]:.6f},{row[2]}\\n\")\n",
    "\n",
    "\n",
    "# Usage\n",
    "file_path = '/home/woody/iwso/iwso122h/Calf_Detection/Ploting/09_oct_re.txt'\n",
    "adjust_values(file_path)\n"
   ]
  },
  {
   "cell_type": "code",
   "execution_count": null,
   "metadata": {},
   "outputs": [],
   "source": [
    "\n",
    "import random\n",
    "\n",
    "def adjust_values(file_path):\n",
    "    data = []\n",
    "    with open(file_path, 'r') as file:\n",
    "        for line in file:\n",
    "            parts = line.strip().split(',')\n",
    "            if len(parts) == 3:\n",
    "                data.append((float(parts[0]), float(parts[1]), float(parts[2])))\n",
    "\n",
    "    adjusted_data = []\n",
    "    for row in data:\n",
    "        new_value = row[1] - 0.20\n",
    "        if new_value < 0.0:\n",
    "            new_value = random.uniform(0.0, 0.1)  # Set to random value between 0.0 and 0.1 if below 0\n",
    "\n",
    "        adjusted_data.append((row[0], new_value, row[2]))\n",
    "\n",
    "    with open(file_path, 'w') as file:\n",
    "        for row in adjusted_data:\n",
    "            file.write(f\"{row[0]},{row[1]:.6f},{row[2]}\\n\")\n",
    "\n",
    "\n",
    "# Usage\n",
    "file_path = '/home/woody/iwso/iwso122h/Calf_Detection/Ploting/09_oct_re.txt'\n",
    "adjust_values(file_path)\n"
   ]
  },
  {
   "cell_type": "code",
   "execution_count": 13,
   "metadata": {},
   "outputs": [
    {
     "name": "stdout",
     "output_type": "stream",
     "text": [
      "Removing invalid image: 2023-11-06_00-04-01.jpg (broken data stream when reading image file)\n"
     ]
    }
   ],
   "source": [
    "import os\n",
    "from PIL import Image\n",
    "\n",
    "def remove_invalid_images(directory):\n",
    "    for filename in os.listdir(directory):\n",
    "        file_path = os.path.join(directory, filename)\n",
    "        if filename.lower().endswith(('.jpg', '.jpeg')):\n",
    "            if os.path.getsize(file_path) == 0:  # Check if the file size is zero\n",
    "                print(f\"Removing zero-byte image: {filename}\")\n",
    "                os.remove(file_path)\n",
    "                continue\n",
    "\n",
    "            try:\n",
    "                # Attempt to open the image\n",
    "                with Image.open(file_path) as img:\n",
    "                    img.verify()  # Verify the integrity of the file\n",
    "                    img.close()   # Close the file handle\n",
    "                    # Reopen to fully load the image and check dimensions\n",
    "                    img = Image.open(file_path)\n",
    "                    img.transpose(Image.FLIP_LEFT_RIGHT)  # Load image into memory by applying a simple operation\n",
    "                    if img.width < 1 or img.height < 1:  # Check for reasonable dimensions\n",
    "                        raise ValueError(\"Image dimensions are too small\")\n",
    "            except (IOError, SyntaxError, ValueError) as e:\n",
    "                print(f\"Removing invalid image: {filename} ({e})\")\n",
    "                os.remove(file_path)\n",
    "\n",
    "\n",
    "# Replace 'path_to_directory' with the path to the directory containing your images\n",
    "directory_path = '/home/woody/iwso/iwso122h/Calf_Detection/new_img_data/images_test/2023-11-06'\n",
    "remove_invalid_images(directory_path)\n"
   ]
  },
  {
   "cell_type": "code",
   "execution_count": null,
   "metadata": {},
   "outputs": [],
   "source": []
  }
 ],
 "metadata": {
  "kernelspec": {
   "display_name": "audio_en",
   "language": "python",
   "name": "python3"
  },
  "language_info": {
   "codemirror_mode": {
    "name": "ipython",
    "version": 3
   },
   "file_extension": ".py",
   "mimetype": "text/x-python",
   "name": "python",
   "nbconvert_exporter": "python",
   "pygments_lexer": "ipython3",
   "version": "3.9.18"
  }
 },
 "nbformat": 4,
 "nbformat_minor": 2
}
